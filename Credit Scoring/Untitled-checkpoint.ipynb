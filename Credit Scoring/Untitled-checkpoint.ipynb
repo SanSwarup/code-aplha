{
 "cells": [
  {
   "cell_type": "code",
   "execution_count": 1,
   "id": "7ad7623d",
   "metadata": {
    "scrolled": false
   },
   "outputs": [],
   "source": [
    "#pip install --upgrade scikit-learn\n",
    "#!pip install xgboost\n",
    "#!pip install catboost\n"
   ]
  },
  {
   "cell_type": "code",
   "execution_count": 3,
   "id": "5e211952",
   "metadata": {},
   "outputs": [],
   "source": [
    "import numpy as np\n",
    "import pandas as pd\n",
    "import matplotlib.pyplot as plt\n",
    "import seaborn as sns\n",
    "from sklearn.preprocessing import StandardScaler, LabelEncoder\n",
    "from sklearn.impute import SimpleImputer\n",
    "from sklearn.model_selection import train_test_split\n",
    "from sklearn.metrics import confusion_matrix,classification_report,ConfusionMatrixDisplay\n",
    "from sklearn.ensemble import RandomForestClassifier\n",
    "from xgboost import XGBClassifier\n",
    "from catboost import CatBoostClassifier"
   ]
  },
  {
   "cell_type": "code",
   "execution_count": 4,
   "id": "52165703",
   "metadata": {},
   "outputs": [
    {
     "name": "stderr",
     "output_type": "stream",
     "text": [
      "C:\\Users\\San\\AppData\\Local\\Temp\\ipykernel_116680\\2949129822.py:1: DtypeWarning: Columns (26) have mixed types. Specify dtype option on import or set low_memory=False.\n",
      "  train = pd.read_csv('train.csv')\n"
     ]
    }
   ],
   "source": [
    "train = pd.read_csv('train.csv')"
   ]
  },
  {
   "cell_type": "code",
   "execution_count": 5,
   "id": "2be5d72c",
   "metadata": {},
   "outputs": [
    {
     "data": {
      "text/html": [
       "<div>\n",
       "<style scoped>\n",
       "    .dataframe tbody tr th:only-of-type {\n",
       "        vertical-align: middle;\n",
       "    }\n",
       "\n",
       "    .dataframe tbody tr th {\n",
       "        vertical-align: top;\n",
       "    }\n",
       "\n",
       "    .dataframe thead th {\n",
       "        text-align: right;\n",
       "    }\n",
       "</style>\n",
       "<table border=\"1\" class=\"dataframe\">\n",
       "  <thead>\n",
       "    <tr style=\"text-align: right;\">\n",
       "      <th></th>\n",
       "      <th>ID</th>\n",
       "      <th>Customer_ID</th>\n",
       "      <th>Month</th>\n",
       "      <th>Name</th>\n",
       "      <th>Age</th>\n",
       "      <th>SSN</th>\n",
       "      <th>Occupation</th>\n",
       "      <th>Annual_Income</th>\n",
       "      <th>Monthly_Inhand_Salary</th>\n",
       "      <th>Num_Bank_Accounts</th>\n",
       "      <th>...</th>\n",
       "      <th>Credit_Mix</th>\n",
       "      <th>Outstanding_Debt</th>\n",
       "      <th>Credit_Utilization_Ratio</th>\n",
       "      <th>Credit_History_Age</th>\n",
       "      <th>Payment_of_Min_Amount</th>\n",
       "      <th>Total_EMI_per_month</th>\n",
       "      <th>Amount_invested_monthly</th>\n",
       "      <th>Payment_Behaviour</th>\n",
       "      <th>Monthly_Balance</th>\n",
       "      <th>Credit_Score</th>\n",
       "    </tr>\n",
       "  </thead>\n",
       "  <tbody>\n",
       "    <tr>\n",
       "      <th>0</th>\n",
       "      <td>0x1602</td>\n",
       "      <td>CUS_0xd40</td>\n",
       "      <td>January</td>\n",
       "      <td>Aaron Maashoh</td>\n",
       "      <td>23</td>\n",
       "      <td>821-00-0265</td>\n",
       "      <td>Scientist</td>\n",
       "      <td>19114.12</td>\n",
       "      <td>1824.843333</td>\n",
       "      <td>3</td>\n",
       "      <td>...</td>\n",
       "      <td>_</td>\n",
       "      <td>809.98</td>\n",
       "      <td>26.822620</td>\n",
       "      <td>22 Years and 1 Months</td>\n",
       "      <td>No</td>\n",
       "      <td>49.574949</td>\n",
       "      <td>80.41529543900253</td>\n",
       "      <td>High_spent_Small_value_payments</td>\n",
       "      <td>312.49408867943663</td>\n",
       "      <td>Good</td>\n",
       "    </tr>\n",
       "    <tr>\n",
       "      <th>1</th>\n",
       "      <td>0x1603</td>\n",
       "      <td>CUS_0xd40</td>\n",
       "      <td>February</td>\n",
       "      <td>Aaron Maashoh</td>\n",
       "      <td>23</td>\n",
       "      <td>821-00-0265</td>\n",
       "      <td>Scientist</td>\n",
       "      <td>19114.12</td>\n",
       "      <td>NaN</td>\n",
       "      <td>3</td>\n",
       "      <td>...</td>\n",
       "      <td>Good</td>\n",
       "      <td>809.98</td>\n",
       "      <td>31.944960</td>\n",
       "      <td>NaN</td>\n",
       "      <td>No</td>\n",
       "      <td>49.574949</td>\n",
       "      <td>118.28022162236736</td>\n",
       "      <td>Low_spent_Large_value_payments</td>\n",
       "      <td>284.62916249607184</td>\n",
       "      <td>Good</td>\n",
       "    </tr>\n",
       "    <tr>\n",
       "      <th>2</th>\n",
       "      <td>0x1604</td>\n",
       "      <td>CUS_0xd40</td>\n",
       "      <td>March</td>\n",
       "      <td>Aaron Maashoh</td>\n",
       "      <td>-500</td>\n",
       "      <td>821-00-0265</td>\n",
       "      <td>Scientist</td>\n",
       "      <td>19114.12</td>\n",
       "      <td>NaN</td>\n",
       "      <td>3</td>\n",
       "      <td>...</td>\n",
       "      <td>Good</td>\n",
       "      <td>809.98</td>\n",
       "      <td>28.609352</td>\n",
       "      <td>22 Years and 3 Months</td>\n",
       "      <td>No</td>\n",
       "      <td>49.574949</td>\n",
       "      <td>81.699521264648</td>\n",
       "      <td>Low_spent_Medium_value_payments</td>\n",
       "      <td>331.2098628537912</td>\n",
       "      <td>Good</td>\n",
       "    </tr>\n",
       "    <tr>\n",
       "      <th>3</th>\n",
       "      <td>0x1605</td>\n",
       "      <td>CUS_0xd40</td>\n",
       "      <td>April</td>\n",
       "      <td>Aaron Maashoh</td>\n",
       "      <td>23</td>\n",
       "      <td>821-00-0265</td>\n",
       "      <td>Scientist</td>\n",
       "      <td>19114.12</td>\n",
       "      <td>NaN</td>\n",
       "      <td>3</td>\n",
       "      <td>...</td>\n",
       "      <td>Good</td>\n",
       "      <td>809.98</td>\n",
       "      <td>31.377862</td>\n",
       "      <td>22 Years and 4 Months</td>\n",
       "      <td>No</td>\n",
       "      <td>49.574949</td>\n",
       "      <td>199.4580743910713</td>\n",
       "      <td>Low_spent_Small_value_payments</td>\n",
       "      <td>223.45130972736786</td>\n",
       "      <td>Good</td>\n",
       "    </tr>\n",
       "    <tr>\n",
       "      <th>4</th>\n",
       "      <td>0x1606</td>\n",
       "      <td>CUS_0xd40</td>\n",
       "      <td>May</td>\n",
       "      <td>Aaron Maashoh</td>\n",
       "      <td>23</td>\n",
       "      <td>821-00-0265</td>\n",
       "      <td>Scientist</td>\n",
       "      <td>19114.12</td>\n",
       "      <td>1824.843333</td>\n",
       "      <td>3</td>\n",
       "      <td>...</td>\n",
       "      <td>Good</td>\n",
       "      <td>809.98</td>\n",
       "      <td>24.797347</td>\n",
       "      <td>22 Years and 5 Months</td>\n",
       "      <td>No</td>\n",
       "      <td>49.574949</td>\n",
       "      <td>41.420153086217326</td>\n",
       "      <td>High_spent_Medium_value_payments</td>\n",
       "      <td>341.48923103222177</td>\n",
       "      <td>Good</td>\n",
       "    </tr>\n",
       "    <tr>\n",
       "      <th>5</th>\n",
       "      <td>0x1607</td>\n",
       "      <td>CUS_0xd40</td>\n",
       "      <td>June</td>\n",
       "      <td>Aaron Maashoh</td>\n",
       "      <td>23</td>\n",
       "      <td>821-00-0265</td>\n",
       "      <td>Scientist</td>\n",
       "      <td>19114.12</td>\n",
       "      <td>NaN</td>\n",
       "      <td>3</td>\n",
       "      <td>...</td>\n",
       "      <td>Good</td>\n",
       "      <td>809.98</td>\n",
       "      <td>27.262259</td>\n",
       "      <td>22 Years and 6 Months</td>\n",
       "      <td>No</td>\n",
       "      <td>49.574949</td>\n",
       "      <td>62.430172331195294</td>\n",
       "      <td>!@9#%8</td>\n",
       "      <td>340.4792117872438</td>\n",
       "      <td>Good</td>\n",
       "    </tr>\n",
       "    <tr>\n",
       "      <th>6</th>\n",
       "      <td>0x1608</td>\n",
       "      <td>CUS_0xd40</td>\n",
       "      <td>July</td>\n",
       "      <td>Aaron Maashoh</td>\n",
       "      <td>23</td>\n",
       "      <td>821-00-0265</td>\n",
       "      <td>Scientist</td>\n",
       "      <td>19114.12</td>\n",
       "      <td>1824.843333</td>\n",
       "      <td>3</td>\n",
       "      <td>...</td>\n",
       "      <td>Good</td>\n",
       "      <td>809.98</td>\n",
       "      <td>22.537593</td>\n",
       "      <td>22 Years and 7 Months</td>\n",
       "      <td>No</td>\n",
       "      <td>49.574949</td>\n",
       "      <td>178.3440674122349</td>\n",
       "      <td>Low_spent_Small_value_payments</td>\n",
       "      <td>244.5653167062043</td>\n",
       "      <td>Good</td>\n",
       "    </tr>\n",
       "    <tr>\n",
       "      <th>7</th>\n",
       "      <td>0x1609</td>\n",
       "      <td>CUS_0xd40</td>\n",
       "      <td>August</td>\n",
       "      <td>NaN</td>\n",
       "      <td>23</td>\n",
       "      <td>#F%$D@*&amp;8</td>\n",
       "      <td>Scientist</td>\n",
       "      <td>19114.12</td>\n",
       "      <td>1824.843333</td>\n",
       "      <td>3</td>\n",
       "      <td>...</td>\n",
       "      <td>Good</td>\n",
       "      <td>809.98</td>\n",
       "      <td>23.933795</td>\n",
       "      <td>NaN</td>\n",
       "      <td>No</td>\n",
       "      <td>49.574949</td>\n",
       "      <td>24.785216509052056</td>\n",
       "      <td>High_spent_Medium_value_payments</td>\n",
       "      <td>358.12416760938714</td>\n",
       "      <td>Standard</td>\n",
       "    </tr>\n",
       "  </tbody>\n",
       "</table>\n",
       "<p>8 rows × 28 columns</p>\n",
       "</div>"
      ],
      "text/plain": [
       "       ID Customer_ID     Month           Name   Age          SSN Occupation  \\\n",
       "0  0x1602   CUS_0xd40   January  Aaron Maashoh    23  821-00-0265  Scientist   \n",
       "1  0x1603   CUS_0xd40  February  Aaron Maashoh    23  821-00-0265  Scientist   \n",
       "2  0x1604   CUS_0xd40     March  Aaron Maashoh  -500  821-00-0265  Scientist   \n",
       "3  0x1605   CUS_0xd40     April  Aaron Maashoh    23  821-00-0265  Scientist   \n",
       "4  0x1606   CUS_0xd40       May  Aaron Maashoh    23  821-00-0265  Scientist   \n",
       "5  0x1607   CUS_0xd40      June  Aaron Maashoh    23  821-00-0265  Scientist   \n",
       "6  0x1608   CUS_0xd40      July  Aaron Maashoh    23  821-00-0265  Scientist   \n",
       "7  0x1609   CUS_0xd40    August            NaN    23    #F%$D@*&8  Scientist   \n",
       "\n",
       "  Annual_Income  Monthly_Inhand_Salary  Num_Bank_Accounts  ...  Credit_Mix  \\\n",
       "0      19114.12            1824.843333                  3  ...           _   \n",
       "1      19114.12                    NaN                  3  ...        Good   \n",
       "2      19114.12                    NaN                  3  ...        Good   \n",
       "3      19114.12                    NaN                  3  ...        Good   \n",
       "4      19114.12            1824.843333                  3  ...        Good   \n",
       "5      19114.12                    NaN                  3  ...        Good   \n",
       "6      19114.12            1824.843333                  3  ...        Good   \n",
       "7      19114.12            1824.843333                  3  ...        Good   \n",
       "\n",
       "   Outstanding_Debt Credit_Utilization_Ratio     Credit_History_Age  \\\n",
       "0            809.98                26.822620  22 Years and 1 Months   \n",
       "1            809.98                31.944960                    NaN   \n",
       "2            809.98                28.609352  22 Years and 3 Months   \n",
       "3            809.98                31.377862  22 Years and 4 Months   \n",
       "4            809.98                24.797347  22 Years and 5 Months   \n",
       "5            809.98                27.262259  22 Years and 6 Months   \n",
       "6            809.98                22.537593  22 Years and 7 Months   \n",
       "7            809.98                23.933795                    NaN   \n",
       "\n",
       "   Payment_of_Min_Amount Total_EMI_per_month Amount_invested_monthly  \\\n",
       "0                     No           49.574949       80.41529543900253   \n",
       "1                     No           49.574949      118.28022162236736   \n",
       "2                     No           49.574949         81.699521264648   \n",
       "3                     No           49.574949       199.4580743910713   \n",
       "4                     No           49.574949      41.420153086217326   \n",
       "5                     No           49.574949      62.430172331195294   \n",
       "6                     No           49.574949       178.3440674122349   \n",
       "7                     No           49.574949      24.785216509052056   \n",
       "\n",
       "                  Payment_Behaviour     Monthly_Balance Credit_Score  \n",
       "0   High_spent_Small_value_payments  312.49408867943663         Good  \n",
       "1    Low_spent_Large_value_payments  284.62916249607184         Good  \n",
       "2   Low_spent_Medium_value_payments   331.2098628537912         Good  \n",
       "3    Low_spent_Small_value_payments  223.45130972736786         Good  \n",
       "4  High_spent_Medium_value_payments  341.48923103222177         Good  \n",
       "5                            !@9#%8   340.4792117872438         Good  \n",
       "6    Low_spent_Small_value_payments   244.5653167062043         Good  \n",
       "7  High_spent_Medium_value_payments  358.12416760938714     Standard  \n",
       "\n",
       "[8 rows x 28 columns]"
      ]
     },
     "execution_count": 5,
     "metadata": {},
     "output_type": "execute_result"
    }
   ],
   "source": [
    "train[:8]"
   ]
  },
  {
   "cell_type": "code",
   "execution_count": 6,
   "id": "eecdd36d",
   "metadata": {},
   "outputs": [
    {
     "data": {
      "text/html": [
       "<div>\n",
       "<style scoped>\n",
       "    .dataframe tbody tr th:only-of-type {\n",
       "        vertical-align: middle;\n",
       "    }\n",
       "\n",
       "    .dataframe tbody tr th {\n",
       "        vertical-align: top;\n",
       "    }\n",
       "\n",
       "    .dataframe thead th {\n",
       "        text-align: right;\n",
       "    }\n",
       "</style>\n",
       "<table border=\"1\" class=\"dataframe\">\n",
       "  <thead>\n",
       "    <tr style=\"text-align: right;\">\n",
       "      <th></th>\n",
       "      <th>Monthly_Inhand_Salary</th>\n",
       "      <th>Num_Bank_Accounts</th>\n",
       "      <th>Num_Credit_Card</th>\n",
       "      <th>Interest_Rate</th>\n",
       "      <th>Delay_from_due_date</th>\n",
       "      <th>Num_Credit_Inquiries</th>\n",
       "      <th>Credit_Utilization_Ratio</th>\n",
       "      <th>Total_EMI_per_month</th>\n",
       "    </tr>\n",
       "  </thead>\n",
       "  <tbody>\n",
       "    <tr>\n",
       "      <th>count</th>\n",
       "      <td>84998.000000</td>\n",
       "      <td>100000.000000</td>\n",
       "      <td>100000.00000</td>\n",
       "      <td>100000.000000</td>\n",
       "      <td>100000.000000</td>\n",
       "      <td>98035.000000</td>\n",
       "      <td>100000.000000</td>\n",
       "      <td>100000.000000</td>\n",
       "    </tr>\n",
       "    <tr>\n",
       "      <th>mean</th>\n",
       "      <td>4194.170850</td>\n",
       "      <td>17.091280</td>\n",
       "      <td>22.47443</td>\n",
       "      <td>72.466040</td>\n",
       "      <td>21.068780</td>\n",
       "      <td>27.754251</td>\n",
       "      <td>32.285173</td>\n",
       "      <td>1403.118217</td>\n",
       "    </tr>\n",
       "    <tr>\n",
       "      <th>std</th>\n",
       "      <td>3183.686167</td>\n",
       "      <td>117.404834</td>\n",
       "      <td>129.05741</td>\n",
       "      <td>466.422621</td>\n",
       "      <td>14.860104</td>\n",
       "      <td>193.177339</td>\n",
       "      <td>5.116875</td>\n",
       "      <td>8306.041270</td>\n",
       "    </tr>\n",
       "    <tr>\n",
       "      <th>min</th>\n",
       "      <td>303.645417</td>\n",
       "      <td>-1.000000</td>\n",
       "      <td>0.00000</td>\n",
       "      <td>1.000000</td>\n",
       "      <td>-5.000000</td>\n",
       "      <td>0.000000</td>\n",
       "      <td>20.000000</td>\n",
       "      <td>0.000000</td>\n",
       "    </tr>\n",
       "    <tr>\n",
       "      <th>25%</th>\n",
       "      <td>1625.568229</td>\n",
       "      <td>3.000000</td>\n",
       "      <td>4.00000</td>\n",
       "      <td>8.000000</td>\n",
       "      <td>10.000000</td>\n",
       "      <td>3.000000</td>\n",
       "      <td>28.052567</td>\n",
       "      <td>30.306660</td>\n",
       "    </tr>\n",
       "    <tr>\n",
       "      <th>50%</th>\n",
       "      <td>3093.745000</td>\n",
       "      <td>6.000000</td>\n",
       "      <td>5.00000</td>\n",
       "      <td>13.000000</td>\n",
       "      <td>18.000000</td>\n",
       "      <td>6.000000</td>\n",
       "      <td>32.305784</td>\n",
       "      <td>69.249473</td>\n",
       "    </tr>\n",
       "    <tr>\n",
       "      <th>75%</th>\n",
       "      <td>5957.448333</td>\n",
       "      <td>7.000000</td>\n",
       "      <td>7.00000</td>\n",
       "      <td>20.000000</td>\n",
       "      <td>28.000000</td>\n",
       "      <td>9.000000</td>\n",
       "      <td>36.496663</td>\n",
       "      <td>161.224249</td>\n",
       "    </tr>\n",
       "    <tr>\n",
       "      <th>max</th>\n",
       "      <td>15204.633333</td>\n",
       "      <td>1798.000000</td>\n",
       "      <td>1499.00000</td>\n",
       "      <td>5797.000000</td>\n",
       "      <td>67.000000</td>\n",
       "      <td>2597.000000</td>\n",
       "      <td>50.000000</td>\n",
       "      <td>82331.000000</td>\n",
       "    </tr>\n",
       "  </tbody>\n",
       "</table>\n",
       "</div>"
      ],
      "text/plain": [
       "       Monthly_Inhand_Salary  Num_Bank_Accounts  Num_Credit_Card  \\\n",
       "count           84998.000000      100000.000000     100000.00000   \n",
       "mean             4194.170850          17.091280         22.47443   \n",
       "std              3183.686167         117.404834        129.05741   \n",
       "min               303.645417          -1.000000          0.00000   \n",
       "25%              1625.568229           3.000000          4.00000   \n",
       "50%              3093.745000           6.000000          5.00000   \n",
       "75%              5957.448333           7.000000          7.00000   \n",
       "max             15204.633333        1798.000000       1499.00000   \n",
       "\n",
       "       Interest_Rate  Delay_from_due_date  Num_Credit_Inquiries  \\\n",
       "count  100000.000000        100000.000000          98035.000000   \n",
       "mean       72.466040            21.068780             27.754251   \n",
       "std       466.422621            14.860104            193.177339   \n",
       "min         1.000000            -5.000000              0.000000   \n",
       "25%         8.000000            10.000000              3.000000   \n",
       "50%        13.000000            18.000000              6.000000   \n",
       "75%        20.000000            28.000000              9.000000   \n",
       "max      5797.000000            67.000000           2597.000000   \n",
       "\n",
       "       Credit_Utilization_Ratio  Total_EMI_per_month  \n",
       "count             100000.000000        100000.000000  \n",
       "mean                  32.285173          1403.118217  \n",
       "std                    5.116875          8306.041270  \n",
       "min                   20.000000             0.000000  \n",
       "25%                   28.052567            30.306660  \n",
       "50%                   32.305784            69.249473  \n",
       "75%                   36.496663           161.224249  \n",
       "max                   50.000000         82331.000000  "
      ]
     },
     "execution_count": 6,
     "metadata": {},
     "output_type": "execute_result"
    }
   ],
   "source": [
    "train.describe()"
   ]
  },
  {
   "cell_type": "code",
   "execution_count": 7,
   "id": "8279e063",
   "metadata": {},
   "outputs": [
    {
     "data": {
      "text/plain": [
       "ID                              0\n",
       "Customer_ID                     0\n",
       "Month                           0\n",
       "Name                         9985\n",
       "Age                             0\n",
       "SSN                             0\n",
       "Occupation                      0\n",
       "Annual_Income                   0\n",
       "Monthly_Inhand_Salary       15002\n",
       "Num_Bank_Accounts               0\n",
       "Num_Credit_Card                 0\n",
       "Interest_Rate                   0\n",
       "Num_of_Loan                     0\n",
       "Type_of_Loan                11408\n",
       "Delay_from_due_date             0\n",
       "Num_of_Delayed_Payment       7002\n",
       "Changed_Credit_Limit            0\n",
       "Num_Credit_Inquiries         1965\n",
       "Credit_Mix                      0\n",
       "Outstanding_Debt                0\n",
       "Credit_Utilization_Ratio        0\n",
       "Credit_History_Age           9030\n",
       "Payment_of_Min_Amount           0\n",
       "Total_EMI_per_month             0\n",
       "Amount_invested_monthly      4479\n",
       "Payment_Behaviour               0\n",
       "Monthly_Balance              1200\n",
       "Credit_Score                    0\n",
       "dtype: int64"
      ]
     },
     "execution_count": 7,
     "metadata": {},
     "output_type": "execute_result"
    }
   ],
   "source": [
    "train.isnull().sum()"
   ]
  },
  {
   "cell_type": "code",
   "execution_count": 8,
   "id": "a076d1c2",
   "metadata": {},
   "outputs": [
    {
     "data": {
      "text/plain": [
       "0"
      ]
     },
     "execution_count": 8,
     "metadata": {},
     "output_type": "execute_result"
    }
   ],
   "source": [
    "train.duplicated().sum()   "
   ]
  },
  {
   "cell_type": "code",
   "execution_count": 9,
   "id": "1c470973",
   "metadata": {},
   "outputs": [
    {
     "name": "stdout",
     "output_type": "stream",
     "text": [
      "ID : string\n",
      "Customer_ID : string\n",
      "Month : string\n",
      "Name : string\n",
      "Age : string\n",
      "SSN : string\n",
      "Occupation : string\n",
      "Annual_Income : string\n",
      "Monthly_Inhand_Salary : floating\n",
      "Num_Bank_Accounts : integer\n",
      "Num_Credit_Card : integer\n",
      "Interest_Rate : integer\n",
      "Num_of_Loan : string\n",
      "Type_of_Loan : string\n",
      "Delay_from_due_date : integer\n",
      "Num_of_Delayed_Payment : string\n",
      "Changed_Credit_Limit : string\n",
      "Num_Credit_Inquiries : floating\n",
      "Credit_Mix : string\n",
      "Outstanding_Debt : string\n",
      "Credit_Utilization_Ratio : floating\n",
      "Credit_History_Age : string\n",
      "Payment_of_Min_Amount : string\n",
      "Total_EMI_per_month : floating\n",
      "Amount_invested_monthly : string\n",
      "Payment_Behaviour : string\n",
      "Monthly_Balance : mixed\n",
      "Credit_Score : string\n"
     ]
    }
   ],
   "source": [
    "for col in train.columns:\n",
    "    print(f'{col} : {pd.api.types.infer_dtype(train[col])}')"
   ]
  },
  {
   "cell_type": "code",
   "execution_count": 10,
   "id": "26891214",
   "metadata": {},
   "outputs": [],
   "source": [
    "train.drop(['ID','Name','SSN','Month'],axis=1,inplace=True)\n"
   ]
  },
  {
   "cell_type": "code",
   "execution_count": 11,
   "id": "2fc752ea",
   "metadata": {},
   "outputs": [],
   "source": [
    "wrong_types = ['Age','Annual_Income','Num_of_Loan','Num_of_Delayed_Payment','Changed_Credit_Limit',\n",
    "               'Outstanding_Debt','Amount_invested_monthly','Monthly_Balance']"
   ]
  },
  {
   "cell_type": "code",
   "execution_count": 12,
   "id": "2102dce4",
   "metadata": {},
   "outputs": [
    {
     "name": "stdout",
     "output_type": "stream",
     "text": [
      "Changed_Credit_Limit\n"
     ]
    }
   ],
   "source": [
    "for col in wrong_types:\n",
    "    if train[col][train[col] == '_'].any():\n",
    "        print(col)"
   ]
  },
  {
   "cell_type": "code",
   "execution_count": 13,
   "id": "f99d7df9",
   "metadata": {},
   "outputs": [],
   "source": [
    "train.loc[train.Changed_Credit_Limit == '_','Changed_Credit_Limit'] = np.nan"
   ]
  },
  {
   "cell_type": "code",
   "execution_count": 14,
   "id": "423bae9b",
   "metadata": {},
   "outputs": [],
   "source": [
    "for col in wrong_types:\n",
    "    train[col] = train[col].str.replace('_','').astype('float64')"
   ]
  },
  {
   "cell_type": "code",
   "execution_count": 15,
   "id": "f2cd64b6",
   "metadata": {},
   "outputs": [
    {
     "data": {
      "text/plain": [
       "Customer_ID                  object\n",
       "Age                         float64\n",
       "Occupation                   object\n",
       "Annual_Income               float64\n",
       "Monthly_Inhand_Salary       float64\n",
       "Num_Bank_Accounts             int64\n",
       "Num_Credit_Card               int64\n",
       "Interest_Rate                 int64\n",
       "Num_of_Loan                 float64\n",
       "Type_of_Loan                 object\n",
       "Delay_from_due_date           int64\n",
       "Num_of_Delayed_Payment      float64\n",
       "Changed_Credit_Limit        float64\n",
       "Num_Credit_Inquiries        float64\n",
       "Credit_Mix                   object\n",
       "Outstanding_Debt            float64\n",
       "Credit_Utilization_Ratio    float64\n",
       "Credit_History_Age           object\n",
       "Payment_of_Min_Amount        object\n",
       "Total_EMI_per_month         float64\n",
       "Amount_invested_monthly     float64\n",
       "Payment_Behaviour            object\n",
       "Monthly_Balance             float64\n",
       "Credit_Score                 object\n",
       "dtype: object"
      ]
     },
     "execution_count": 15,
     "metadata": {},
     "output_type": "execute_result"
    }
   ],
   "source": [
    "train.dtypes\n",
    "\n"
   ]
  },
  {
   "cell_type": "code",
   "execution_count": 16,
   "id": "ec2d65f1",
   "metadata": {},
   "outputs": [
    {
     "data": {
      "text/plain": [
       "Index(['Age', 'Annual_Income', 'Monthly_Inhand_Salary', 'Num_Bank_Accounts',\n",
       "       'Num_Credit_Card', 'Interest_Rate', 'Num_of_Loan',\n",
       "       'Delay_from_due_date', 'Num_of_Delayed_Payment', 'Changed_Credit_Limit',\n",
       "       'Num_Credit_Inquiries', 'Outstanding_Debt', 'Credit_Utilization_Ratio',\n",
       "       'Total_EMI_per_month', 'Amount_invested_monthly', 'Monthly_Balance'],\n",
       "      dtype='object')"
      ]
     },
     "execution_count": 16,
     "metadata": {},
     "output_type": "execute_result"
    }
   ],
   "source": [
    "numerical = train.select_dtypes(include=['float64','int64']).columns\n",
    "numerical"
   ]
  },
  {
   "cell_type": "code",
   "execution_count": 17,
   "id": "4d0f17b7",
   "metadata": {},
   "outputs": [
    {
     "data": {
      "text/plain": [
       "Index(['Customer_ID', 'Occupation', 'Type_of_Loan', 'Credit_Mix',\n",
       "       'Credit_History_Age', 'Payment_of_Min_Amount', 'Payment_Behaviour',\n",
       "       'Credit_Score'],\n",
       "      dtype='object')"
      ]
     },
     "execution_count": 17,
     "metadata": {},
     "output_type": "execute_result"
    }
   ],
   "source": [
    "categorical = train.select_dtypes(include=['object']).columns\n",
    "categorical"
   ]
  },
  {
   "cell_type": "code",
   "execution_count": 18,
   "id": "7e41c76a",
   "metadata": {},
   "outputs": [
    {
     "data": {
      "text/plain": [
       "False"
      ]
     },
     "execution_count": 18,
     "metadata": {},
     "output_type": "execute_result"
    }
   ],
   "source": [
    "(train.Customer_ID.value_counts() != 8).any()#each customer has 8 records"
   ]
  },
  {
   "cell_type": "code",
   "execution_count": 19,
   "id": "70fb5885",
   "metadata": {},
   "outputs": [
    {
     "data": {
      "text/plain": [
       "12500"
      ]
     },
     "execution_count": 19,
     "metadata": {},
     "output_type": "execute_result"
    }
   ],
   "source": [
    "(train.Customer_ID.value_counts() == 8).sum()#number of customers\n",
    "\n"
   ]
  },
  {
   "cell_type": "code",
   "execution_count": 20,
   "id": "ed177832",
   "metadata": {},
   "outputs": [],
   "source": [
    "train.Age = train.groupby('Customer_ID').Age.transform(lambda x : x.mode()[0])\n",
    "train.Annual_Income = train.groupby('Customer_ID').Annual_Income.transform(lambda x : x.mode()[0])\n",
    "train.Occupation = train.groupby('Customer_ID').Occupation.transform(lambda x : x.mode()[0])"
   ]
  },
  {
   "cell_type": "code",
   "execution_count": 21,
   "id": "39cd9c78",
   "metadata": {},
   "outputs": [
    {
     "name": "stdout",
     "output_type": "stream",
     "text": [
      "Num_Bank_Accounts 21\n",
      "Num_of_Loan 3876\n",
      "Delay_from_due_date 591\n",
      "Num_of_Delayed_Payment 644\n",
      "Changed_Credit_Limit 1586\n",
      "Monthly_Balance 9\n"
     ]
    }
   ],
   "source": [
    "for col in numerical:    \n",
    "    if train[col][train[col] < 0].any():\n",
    "        print(col,len(train[col][train[col] < 0]))\n",
    "        "
   ]
  },
  {
   "cell_type": "code",
   "execution_count": 22,
   "id": "7c38b187",
   "metadata": {},
   "outputs": [
    {
     "data": {
      "text/plain": [
       "Num_Bank_Accounts\n",
       "-1    21\n",
       "Name: count, dtype: int64"
      ]
     },
     "execution_count": 22,
     "metadata": {},
     "output_type": "execute_result"
    }
   ],
   "source": [
    "train.Num_Bank_Accounts[train.Num_Bank_Accounts < 0].value_counts()#always -1 so it's definitely a mistake"
   ]
  },
  {
   "cell_type": "code",
   "execution_count": 23,
   "id": "25547e8b",
   "metadata": {},
   "outputs": [],
   "source": [
    "train.drop(train[train.Num_of_Loan < 0].index,inplace=True)"
   ]
  },
  {
   "cell_type": "code",
   "execution_count": 24,
   "id": "bbbebf75",
   "metadata": {},
   "outputs": [],
   "source": [
    "train.reset_index(drop=True,inplace=True)"
   ]
  },
  {
   "cell_type": "code",
   "execution_count": 25,
   "id": "2135c3bd",
   "metadata": {},
   "outputs": [
    {
     "name": "stdout",
     "output_type": "stream",
     "text": [
      "Num_Bank_Accounts 20\n",
      "Delay_from_due_date 559\n",
      "Num_of_Delayed_Payment 616\n",
      "Changed_Credit_Limit 1525\n",
      "Monthly_Balance 9\n"
     ]
    }
   ],
   "source": [
    "for col in numerical:    \n",
    "    if train[col][train[col] < 0].any():\n",
    "        print(col,len(train[col][train[col] < 0]))\n"
   ]
  },
  {
   "cell_type": "code",
   "execution_count": 26,
   "id": "644c1ad0",
   "metadata": {},
   "outputs": [
    {
     "data": {
      "text/html": [
       "<div>\n",
       "<style scoped>\n",
       "    .dataframe tbody tr th:only-of-type {\n",
       "        vertical-align: middle;\n",
       "    }\n",
       "\n",
       "    .dataframe tbody tr th {\n",
       "        vertical-align: top;\n",
       "    }\n",
       "\n",
       "    .dataframe thead th {\n",
       "        text-align: right;\n",
       "    }\n",
       "</style>\n",
       "<table border=\"1\" class=\"dataframe\">\n",
       "  <thead>\n",
       "    <tr style=\"text-align: right;\">\n",
       "      <th></th>\n",
       "      <th>Age</th>\n",
       "      <th>Annual_Income</th>\n",
       "      <th>Monthly_Inhand_Salary</th>\n",
       "      <th>Num_Bank_Accounts</th>\n",
       "      <th>Num_Credit_Card</th>\n",
       "      <th>Interest_Rate</th>\n",
       "      <th>Num_of_Loan</th>\n",
       "      <th>Delay_from_due_date</th>\n",
       "      <th>Num_of_Delayed_Payment</th>\n",
       "      <th>Changed_Credit_Limit</th>\n",
       "      <th>Num_Credit_Inquiries</th>\n",
       "      <th>Outstanding_Debt</th>\n",
       "      <th>Credit_Utilization_Ratio</th>\n",
       "      <th>Total_EMI_per_month</th>\n",
       "      <th>Amount_invested_monthly</th>\n",
       "      <th>Monthly_Balance</th>\n",
       "    </tr>\n",
       "  </thead>\n",
       "  <tbody>\n",
       "    <tr>\n",
       "      <th>count</th>\n",
       "      <td>96124.000000</td>\n",
       "      <td>96124.000000</td>\n",
       "      <td>81703.000000</td>\n",
       "      <td>96124.000000</td>\n",
       "      <td>96124.000000</td>\n",
       "      <td>96124.000000</td>\n",
       "      <td>96124.000000</td>\n",
       "      <td>96124.000000</td>\n",
       "      <td>89425.00000</td>\n",
       "      <td>94112.000000</td>\n",
       "      <td>94236.000000</td>\n",
       "      <td>96124.000000</td>\n",
       "      <td>96124.000000</td>\n",
       "      <td>96124.000000</td>\n",
       "      <td>91815.000000</td>\n",
       "      <td>9.336300e+04</td>\n",
       "    </tr>\n",
       "    <tr>\n",
       "      <th>mean</th>\n",
       "      <td>33.272960</td>\n",
       "      <td>50514.748280</td>\n",
       "      <td>4195.327295</td>\n",
       "      <td>17.092776</td>\n",
       "      <td>22.525654</td>\n",
       "      <td>72.340362</td>\n",
       "      <td>7.163622</td>\n",
       "      <td>21.071189</td>\n",
       "      <td>31.12832</td>\n",
       "      <td>10.393518</td>\n",
       "      <td>27.737786</td>\n",
       "      <td>1426.947574</td>\n",
       "      <td>32.288654</td>\n",
       "      <td>1409.403083</td>\n",
       "      <td>636.095941</td>\n",
       "      <td>-3.213264e+22</td>\n",
       "    </tr>\n",
       "    <tr>\n",
       "      <th>std</th>\n",
       "      <td>10.765591</td>\n",
       "      <td>38323.093237</td>\n",
       "      <td>3185.748055</td>\n",
       "      <td>117.297700</td>\n",
       "      <td>129.286561</td>\n",
       "      <td>466.435589</td>\n",
       "      <td>60.314923</td>\n",
       "      <td>14.860607</td>\n",
       "      <td>227.24194</td>\n",
       "      <td>6.794648</td>\n",
       "      <td>192.949831</td>\n",
       "      <td>1155.902423</td>\n",
       "      <td>5.115108</td>\n",
       "      <td>8324.632602</td>\n",
       "      <td>2040.067019</td>\n",
       "      <td>3.272608e+24</td>\n",
       "    </tr>\n",
       "    <tr>\n",
       "      <th>min</th>\n",
       "      <td>14.000000</td>\n",
       "      <td>7005.930000</td>\n",
       "      <td>303.645417</td>\n",
       "      <td>-1.000000</td>\n",
       "      <td>0.000000</td>\n",
       "      <td>1.000000</td>\n",
       "      <td>0.000000</td>\n",
       "      <td>-5.000000</td>\n",
       "      <td>-3.00000</td>\n",
       "      <td>-6.490000</td>\n",
       "      <td>0.000000</td>\n",
       "      <td>0.230000</td>\n",
       "      <td>20.000000</td>\n",
       "      <td>0.000000</td>\n",
       "      <td>0.000000</td>\n",
       "      <td>-3.333333e+26</td>\n",
       "    </tr>\n",
       "    <tr>\n",
       "      <th>25%</th>\n",
       "      <td>24.000000</td>\n",
       "      <td>19338.105000</td>\n",
       "      <td>1625.227083</td>\n",
       "      <td>3.000000</td>\n",
       "      <td>4.000000</td>\n",
       "      <td>8.000000</td>\n",
       "      <td>2.000000</td>\n",
       "      <td>10.000000</td>\n",
       "      <td>9.00000</td>\n",
       "      <td>5.320000</td>\n",
       "      <td>3.000000</td>\n",
       "      <td>566.050000</td>\n",
       "      <td>28.061232</td>\n",
       "      <td>30.293323</td>\n",
       "      <td>74.559776</td>\n",
       "      <td>2.698834e+02</td>\n",
       "    </tr>\n",
       "    <tr>\n",
       "      <th>50%</th>\n",
       "      <td>33.000000</td>\n",
       "      <td>36993.940000</td>\n",
       "      <td>3091.386667</td>\n",
       "      <td>6.000000</td>\n",
       "      <td>5.000000</td>\n",
       "      <td>13.000000</td>\n",
       "      <td>3.000000</td>\n",
       "      <td>18.000000</td>\n",
       "      <td>14.00000</td>\n",
       "      <td>9.410000</td>\n",
       "      <td>6.000000</td>\n",
       "      <td>1166.370000</td>\n",
       "      <td>32.308398</td>\n",
       "      <td>69.246684</td>\n",
       "      <td>135.826925</td>\n",
       "      <td>3.364419e+02</td>\n",
       "    </tr>\n",
       "    <tr>\n",
       "      <th>75%</th>\n",
       "      <td>42.000000</td>\n",
       "      <td>71689.680000</td>\n",
       "      <td>5959.676250</td>\n",
       "      <td>7.000000</td>\n",
       "      <td>7.000000</td>\n",
       "      <td>20.000000</td>\n",
       "      <td>5.000000</td>\n",
       "      <td>28.000000</td>\n",
       "      <td>18.00000</td>\n",
       "      <td>14.890000</td>\n",
       "      <td>9.000000</td>\n",
       "      <td>1948.980000</td>\n",
       "      <td>36.501119</td>\n",
       "      <td>161.340704</td>\n",
       "      <td>265.627189</td>\n",
       "      <td>4.695575e+02</td>\n",
       "    </tr>\n",
       "    <tr>\n",
       "      <th>max</th>\n",
       "      <td>56.000000</td>\n",
       "      <td>179987.280000</td>\n",
       "      <td>15204.633333</td>\n",
       "      <td>1798.000000</td>\n",
       "      <td>1499.000000</td>\n",
       "      <td>5797.000000</td>\n",
       "      <td>1496.000000</td>\n",
       "      <td>67.000000</td>\n",
       "      <td>4397.00000</td>\n",
       "      <td>36.490000</td>\n",
       "      <td>2597.000000</td>\n",
       "      <td>4998.070000</td>\n",
       "      <td>50.000000</td>\n",
       "      <td>82331.000000</td>\n",
       "      <td>10000.000000</td>\n",
       "      <td>1.602041e+03</td>\n",
       "    </tr>\n",
       "  </tbody>\n",
       "</table>\n",
       "</div>"
      ],
      "text/plain": [
       "                Age  Annual_Income  Monthly_Inhand_Salary  Num_Bank_Accounts  \\\n",
       "count  96124.000000   96124.000000           81703.000000       96124.000000   \n",
       "mean      33.272960   50514.748280            4195.327295          17.092776   \n",
       "std       10.765591   38323.093237            3185.748055         117.297700   \n",
       "min       14.000000    7005.930000             303.645417          -1.000000   \n",
       "25%       24.000000   19338.105000            1625.227083           3.000000   \n",
       "50%       33.000000   36993.940000            3091.386667           6.000000   \n",
       "75%       42.000000   71689.680000            5959.676250           7.000000   \n",
       "max       56.000000  179987.280000           15204.633333        1798.000000   \n",
       "\n",
       "       Num_Credit_Card  Interest_Rate   Num_of_Loan  Delay_from_due_date  \\\n",
       "count     96124.000000   96124.000000  96124.000000         96124.000000   \n",
       "mean         22.525654      72.340362      7.163622            21.071189   \n",
       "std         129.286561     466.435589     60.314923            14.860607   \n",
       "min           0.000000       1.000000      0.000000            -5.000000   \n",
       "25%           4.000000       8.000000      2.000000            10.000000   \n",
       "50%           5.000000      13.000000      3.000000            18.000000   \n",
       "75%           7.000000      20.000000      5.000000            28.000000   \n",
       "max        1499.000000    5797.000000   1496.000000            67.000000   \n",
       "\n",
       "       Num_of_Delayed_Payment  Changed_Credit_Limit  Num_Credit_Inquiries  \\\n",
       "count             89425.00000          94112.000000          94236.000000   \n",
       "mean                 31.12832             10.393518             27.737786   \n",
       "std                 227.24194              6.794648            192.949831   \n",
       "min                  -3.00000             -6.490000              0.000000   \n",
       "25%                   9.00000              5.320000              3.000000   \n",
       "50%                  14.00000              9.410000              6.000000   \n",
       "75%                  18.00000             14.890000              9.000000   \n",
       "max                4397.00000             36.490000           2597.000000   \n",
       "\n",
       "       Outstanding_Debt  Credit_Utilization_Ratio  Total_EMI_per_month  \\\n",
       "count      96124.000000              96124.000000         96124.000000   \n",
       "mean        1426.947574                 32.288654          1409.403083   \n",
       "std         1155.902423                  5.115108          8324.632602   \n",
       "min            0.230000                 20.000000             0.000000   \n",
       "25%          566.050000                 28.061232            30.293323   \n",
       "50%         1166.370000                 32.308398            69.246684   \n",
       "75%         1948.980000                 36.501119           161.340704   \n",
       "max         4998.070000                 50.000000         82331.000000   \n",
       "\n",
       "       Amount_invested_monthly  Monthly_Balance  \n",
       "count             91815.000000     9.336300e+04  \n",
       "mean                636.095941    -3.213264e+22  \n",
       "std                2040.067019     3.272608e+24  \n",
       "min                   0.000000    -3.333333e+26  \n",
       "25%                  74.559776     2.698834e+02  \n",
       "50%                 135.826925     3.364419e+02  \n",
       "75%                 265.627189     4.695575e+02  \n",
       "max               10000.000000     1.602041e+03  "
      ]
     },
     "execution_count": 26,
     "metadata": {},
     "output_type": "execute_result"
    }
   ],
   "source": [
    "train.describe()"
   ]
  },
  {
   "cell_type": "code",
   "execution_count": 27,
   "id": "92a1b993",
   "metadata": {},
   "outputs": [
    {
     "data": {
      "text/plain": [
       "Num_Bank_Accounts\n",
       "803     7\n",
       "791     5\n",
       "1668    5\n",
       "105     5\n",
       "1257    4\n",
       "       ..\n",
       "887     1\n",
       "211     1\n",
       "385     1\n",
       "1221    1\n",
       "697     1\n",
       "Name: count, Length: 887, dtype: int64"
      ]
     },
     "execution_count": 27,
     "metadata": {},
     "output_type": "execute_result"
    }
   ],
   "source": [
    "train.Num_Bank_Accounts[train.Num_Bank_Accounts > 50].value_counts()"
   ]
  },
  {
   "cell_type": "code",
   "execution_count": 28,
   "id": "8a3b03a2",
   "metadata": {},
   "outputs": [],
   "source": [
    "train.drop(train[train.Num_Bank_Accounts > 50].index,inplace=True)"
   ]
  },
  {
   "cell_type": "code",
   "execution_count": 29,
   "id": "617e4f93",
   "metadata": {},
   "outputs": [
    {
     "data": {
      "text/plain": [
       "Num_Credit_Card\n",
       "849    8\n",
       "852    7\n",
       "958    6\n",
       "183    6\n",
       "218    6\n",
       "      ..\n",
       "414    1\n",
       "290    1\n",
       "892    1\n",
       "964    1\n",
       "679    1\n",
       "Name: count, Length: 1119, dtype: int64"
      ]
     },
     "execution_count": 29,
     "metadata": {},
     "output_type": "execute_result"
    }
   ],
   "source": [
    "train.Num_Credit_Card[train.Num_Credit_Card > 50].value_counts()\n"
   ]
  },
  {
   "cell_type": "code",
   "execution_count": 30,
   "id": "6b4ff3fa",
   "metadata": {},
   "outputs": [],
   "source": [
    "train.drop(train[train.Num_Credit_Card > 50].index,inplace=True)"
   ]
  },
  {
   "cell_type": "code",
   "execution_count": 31,
   "id": "6f9caac9",
   "metadata": {},
   "outputs": [],
   "source": [
    "train.reset_index(drop=True,inplace=True)"
   ]
  },
  {
   "cell_type": "code",
   "execution_count": 32,
   "id": "9546f8f2",
   "metadata": {},
   "outputs": [
    {
     "data": {
      "text/plain": [
       "Customer_ID                     0\n",
       "Age                             0\n",
       "Occupation                      0\n",
       "Annual_Income                   0\n",
       "Monthly_Inhand_Salary       13896\n",
       "Num_Bank_Accounts               0\n",
       "Num_Credit_Card                 0\n",
       "Interest_Rate                   0\n",
       "Num_of_Loan                     0\n",
       "Type_of_Loan                10581\n",
       "Delay_from_due_date             0\n",
       "Num_of_Delayed_Payment       6468\n",
       "Changed_Credit_Limit         1949\n",
       "Num_Credit_Inquiries         1809\n",
       "Credit_Mix                      0\n",
       "Outstanding_Debt                0\n",
       "Credit_Utilization_Ratio        0\n",
       "Credit_History_Age           8419\n",
       "Payment_of_Min_Amount           0\n",
       "Total_EMI_per_month             0\n",
       "Amount_invested_monthly      4152\n",
       "Payment_Behaviour               0\n",
       "Monthly_Balance              2659\n",
       "Credit_Score                    0\n",
       "dtype: int64"
      ]
     },
     "execution_count": 32,
     "metadata": {},
     "output_type": "execute_result"
    }
   ],
   "source": [
    "train.isnull().sum()"
   ]
  },
  {
   "cell_type": "code",
   "execution_count": 33,
   "id": "8de4ef18",
   "metadata": {},
   "outputs": [
    {
     "data": {
      "text/plain": [
       "Monthly_Inhand_Salary      0\n",
       "Num_of_Delayed_Payment     0\n",
       "Changed_Credit_Limit       0\n",
       "Num_Credit_Inquiries       0\n",
       "Amount_invested_monthly    0\n",
       "Monthly_Balance            0\n",
       "dtype: int64"
      ]
     },
     "execution_count": 33,
     "metadata": {},
     "output_type": "execute_result"
    }
   ],
   "source": [
    "null_num_cols = ['Monthly_Inhand_Salary','Num_of_Delayed_Payment','Changed_Credit_Limit','Num_Credit_Inquiries','Amount_invested_monthly','Monthly_Balance']\n",
    "imputer = SimpleImputer(strategy='mean')\n",
    "imputed_numerical = pd.DataFrame(imputer.fit_transform(train[null_num_cols]),columns=null_num_cols)\n",
    "imputed_numerical.isnull().sum()"
   ]
  },
  {
   "cell_type": "code",
   "execution_count": 34,
   "id": "391f5d2c",
   "metadata": {},
   "outputs": [],
   "source": [
    "train[null_num_cols] = imputed_numerical"
   ]
  },
  {
   "cell_type": "code",
   "execution_count": 35,
   "id": "65be37b1",
   "metadata": {},
   "outputs": [
    {
     "data": {
      "text/plain": [
       "Customer_ID                     0\n",
       "Age                             0\n",
       "Occupation                      0\n",
       "Annual_Income                   0\n",
       "Monthly_Inhand_Salary           0\n",
       "Num_Bank_Accounts               0\n",
       "Num_Credit_Card                 0\n",
       "Interest_Rate                   0\n",
       "Num_of_Loan                     0\n",
       "Type_of_Loan                10581\n",
       "Delay_from_due_date             0\n",
       "Num_of_Delayed_Payment          0\n",
       "Changed_Credit_Limit            0\n",
       "Num_Credit_Inquiries            0\n",
       "Credit_Mix                      0\n",
       "Outstanding_Debt                0\n",
       "Credit_Utilization_Ratio        0\n",
       "Credit_History_Age           8419\n",
       "Payment_of_Min_Amount           0\n",
       "Total_EMI_per_month             0\n",
       "Amount_invested_monthly         0\n",
       "Payment_Behaviour               0\n",
       "Monthly_Balance                 0\n",
       "Credit_Score                    0\n",
       "dtype: int64"
      ]
     },
     "execution_count": 35,
     "metadata": {},
     "output_type": "execute_result"
    }
   ],
   "source": [
    "train.isnull().sum()"
   ]
  },
  {
   "cell_type": "code",
   "execution_count": 36,
   "id": "5a0f0178",
   "metadata": {},
   "outputs": [
    {
     "data": {
      "text/plain": [
       "Occupation\n",
       "Lawyer           6570\n",
       "Engineer         6342\n",
       "Mechanic         6320\n",
       "Architect        6303\n",
       "Scientist        6277\n",
       "Developer        6224\n",
       "Accountant       6224\n",
       "Teacher          6215\n",
       "Media_Manager    6193\n",
       "Entrepreneur     6165\n",
       "Journalist       6086\n",
       "Doctor           6070\n",
       "Manager          5965\n",
       "Musician         5923\n",
       "Writer           5895\n",
       "_______             8\n",
       "Name: count, dtype: int64"
      ]
     },
     "execution_count": 36,
     "metadata": {},
     "output_type": "execute_result"
    }
   ],
   "source": [
    "train.Occupation.value_counts()"
   ]
  },
  {
   "cell_type": "code",
   "execution_count": 37,
   "id": "fb14c20b",
   "metadata": {},
   "outputs": [],
   "source": [
    "train.loc[train.Occupation == '_______','Occupation'] = np.nan"
   ]
  },
  {
   "cell_type": "code",
   "execution_count": 38,
   "id": "2524f663",
   "metadata": {},
   "outputs": [
    {
     "data": {
      "text/plain": [
       "Type_of_Loan\n",
       "Not Specified                                                                                               1296\n",
       "Credit-Builder Loan                                                                                         1165\n",
       "Personal Loan                                                                                               1163\n",
       "Student Loan                                                                                                1162\n",
       "Debt Consolidation Loan                                                                                     1157\n",
       "                                                                                                            ... \n",
       "Home Equity Loan, Debt Consolidation Loan, Personal Loan, Not Specified, and Mortgage Loan                     4\n",
       "Auto Loan, Credit-Builder Loan, Payday Loan, Personal Loan, and Student Loan                                   4\n",
       "Personal Loan, Home Equity Loan, Personal Loan, and Personal Loan                                              4\n",
       "Not Specified, Payday Loan, Payday Loan, and Credit-Builder Loan                                               4\n",
       "Payday Loan, Debt Consolidation Loan, Debt Consolidation Loan, Student Loan, and Debt Consolidation Loan       4\n",
       "Name: count, Length: 6260, dtype: int64"
      ]
     },
     "execution_count": 38,
     "metadata": {},
     "output_type": "execute_result"
    }
   ],
   "source": [
    "train.Type_of_Loan.value_counts()"
   ]
  },
  {
   "cell_type": "code",
   "execution_count": 39,
   "id": "111edb8d",
   "metadata": {},
   "outputs": [
    {
     "data": {
      "text/plain": [
       "False"
      ]
     },
     "execution_count": 39,
     "metadata": {},
     "output_type": "execute_result"
    }
   ],
   "source": [
    "train.Type_of_Loan[train.Type_of_Loan == '_'].any()#no wrong values"
   ]
  },
  {
   "cell_type": "code",
   "execution_count": 40,
   "id": "4ce524f3",
   "metadata": {},
   "outputs": [
    {
     "data": {
      "text/plain": [
       "Credit_Mix\n",
       "Standard    33803\n",
       "Good        22557\n",
       "_           18770\n",
       "Bad         17650\n",
       "Name: count, dtype: int64"
      ]
     },
     "execution_count": 40,
     "metadata": {},
     "output_type": "execute_result"
    }
   ],
   "source": [
    "train.Credit_Mix.value_counts() "
   ]
  },
  {
   "cell_type": "code",
   "execution_count": 41,
   "id": "852c2698",
   "metadata": {},
   "outputs": [],
   "source": [
    "train.loc[train.Credit_Mix == '_', 'Credit_Mix'] = np.nan"
   ]
  },
  {
   "cell_type": "code",
   "execution_count": 53,
   "id": "a5187975",
   "metadata": {},
   "outputs": [
    {
     "data": {
      "text/plain": [
       "<Axes: xlabel='Credit_Mix', ylabel='Count'>"
      ]
     },
     "execution_count": 53,
     "metadata": {},
     "output_type": "execute_result"
    },
    {
     "data": {
      "image/png": "[encoded data removed]",
      "text/plain": [
       "<Figure size 640x480 with 1 Axes>"
      ]
     },
     "metadata": {},
     "output_type": "display_data"
    }
   ],
   "source": [
    "import seaborn as sns\n",
    "#sns.countplot(train.Credit_Mix)\n",
    "sns.histplot(train.Credit_Mix)"
   ]
  },
  {
   "cell_type": "code",
   "execution_count": 43,
   "id": "83469fa4",
   "metadata": {},
   "outputs": [
    {
     "data": {
      "text/plain": [
       "Credit_History_Age\n",
       "19 Years and 4 Months     415\n",
       "15 Years and 11 Months    415\n",
       "17 Years and 9 Months     415\n",
       "19 Years and 5 Months     413\n",
       "15 Years and 9 Months     410\n",
       "                         ... \n",
       "0 Years and 3 Months       20\n",
       "0 Years and 2 Months       13\n",
       "33 Years and 7 Months      12\n",
       "33 Years and 8 Months      12\n",
       "0 Years and 1 Months        2\n",
       "Name: count, Length: 404, dtype: int64"
      ]
     },
     "execution_count": 43,
     "metadata": {},
     "output_type": "execute_result"
    }
   ],
   "source": [
    "train.Credit_History_Age.value_counts()"
   ]
  },
  {
   "cell_type": "code",
   "execution_count": 44,
   "id": "bfccb5c8",
   "metadata": {},
   "outputs": [
    {
     "data": {
      "text/plain": [
       "False"
      ]
     },
     "execution_count": 44,
     "metadata": {},
     "output_type": "execute_result"
    }
   ],
   "source": [
    "train.Credit_History_Age[train.Credit_History_Age == '_'].any()#no wrong values"
   ]
  },
  {
   "cell_type": "code",
   "execution_count": 45,
   "id": "b850a071",
   "metadata": {},
   "outputs": [
    {
     "data": {
      "text/plain": [
       "Payment_of_Min_Amount\n",
       "Yes    48570\n",
       "No     33090\n",
       "NM     11120\n",
       "Name: count, dtype: int64"
      ]
     },
     "execution_count": 45,
     "metadata": {},
     "output_type": "execute_result"
    }
   ],
   "source": [
    "train.Payment_of_Min_Amount.value_counts()"
   ]
  },
  {
   "cell_type": "code",
   "execution_count": 46,
   "id": "f8091be0",
   "metadata": {},
   "outputs": [],
   "source": [
    "train.loc[train.Payment_of_Min_Amount == 'NM','Payment_of_Min_Amount'] = np.nan"
   ]
  },
  {
   "cell_type": "code",
   "execution_count": 47,
   "id": "e29847f7",
   "metadata": {
    "scrolled": false
   },
   "outputs": [
    {
     "data": {
      "text/plain": [
       "<Axes: xlabel='Payment_of_Min_Amount', ylabel='Count'>"
      ]
     },
     "execution_count": 47,
     "metadata": {},
     "output_type": "execute_result"
    },
    {
     "data": {
      "image/png": "[encoded data removed]",
      "text/plain": [
       "<Figure size 640x480 with 1 Axes>"
      ]
     },
     "metadata": {},
     "output_type": "display_data"
    }
   ],
   "source": [
    "sns.histplot(train.Payment_of_Min_Amount)\n",
    "#sns.countplot(train[train.Payment_of_Min_Amount != 'No'].Payment_of_Min_Amount)\n",
    "#train['Payment_of_Min_Amount'] = pd.to_numeric(train['Payment_of_Min_Amount'], errors='coerce')\n",
    "#sns.countplot(train['Payment_of_Min_Amount'].dropna())\n",
    "#sns.countplot(train.Payment_of_Min_Amount, palette='viridis', hue=train.Payment_of_Min_Amount)\n"
   ]
  },
  {
   "cell_type": "code",
   "execution_count": 54,
   "id": "d1bc316e",
   "metadata": {},
   "outputs": [
    {
     "data": {
      "text/plain": [
       "Payment_Behaviour\n",
       "Low_spent_Small_value_payments      23630\n",
       "High_spent_Medium_value_payments    16274\n",
       "Low_spent_Medium_value_payments     12879\n",
       "High_spent_Large_value_payments     12702\n",
       "High_spent_Small_value_payments     10537\n",
       "Low_spent_Large_value_payments       9719\n",
       "!@9#%8                               7039\n",
       "Name: count, dtype: int64"
      ]
     },
     "execution_count": 54,
     "metadata": {},
     "output_type": "execute_result"
    }
   ],
   "source": [
    "train.Payment_Behaviour.value_counts()\n"
   ]
  },
  {
   "cell_type": "code",
   "execution_count": 61,
   "id": "fb8b6141",
   "metadata": {},
   "outputs": [],
   "source": [
    "train.loc[train.Payment_Behaviour == '!@9#%8','Payment_Behaviour'] = np.nan"
   ]
  },
  {
   "cell_type": "code",
   "execution_count": 59,
   "id": "b15bc669",
   "metadata": {},
   "outputs": [
    {
     "data": {
      "text/plain": [
       "<Axes: xlabel='Payment_Behaviour', ylabel='Count'>"
      ]
     },
     "execution_count": 59,
     "metadata": {},
     "output_type": "execute_result"
    },
    {
     "data": {
      "image/png": "[encoded data removed]",
      "text/plain": [
       "<Figure size 640x480 with 1 Axes>"
      ]
     },
     "metadata": {},
     "output_type": "display_data"
    }
   ],
   "source": [
    "sns.histplot(train.Payment_Behaviour)"
   ]
  },
  {
   "cell_type": "code",
   "execution_count": 60,
   "id": "0647c7f7",
   "metadata": {},
   "outputs": [
    {
     "data": {
      "text/plain": [
       "Credit_Score\n",
       "Standard    49374\n",
       "Poor        26932\n",
       "Good        16474\n",
       "Name: count, dtype: int64"
      ]
     },
     "execution_count": 60,
     "metadata": {},
     "output_type": "execute_result"
    }
   ],
   "source": [
    "train.Credit_Score.value_counts()"
   ]
  },
  {
   "cell_type": "code",
   "execution_count": 61,
   "id": "6b829a8b",
   "metadata": {},
   "outputs": [
    {
     "data": {
      "text/plain": [
       "Customer_ID                     0\n",
       "Age                             0\n",
       "Occupation                      8\n",
       "Annual_Income                   0\n",
       "Monthly_Inhand_Salary           0\n",
       "Num_Bank_Accounts               0\n",
       "Num_Credit_Card                 0\n",
       "Interest_Rate                   0\n",
       "Num_of_Loan                     0\n",
       "Type_of_Loan                10581\n",
       "Delay_from_due_date             0\n",
       "Num_of_Delayed_Payment          0\n",
       "Changed_Credit_Limit            0\n",
       "Num_Credit_Inquiries            0\n",
       "Credit_Mix                  18770\n",
       "Outstanding_Debt                0\n",
       "Credit_Utilization_Ratio        0\n",
       "Credit_History_Age           8419\n",
       "Payment_of_Min_Amount       11120\n",
       "Total_EMI_per_month             0\n",
       "Amount_invested_monthly         0\n",
       "Payment_Behaviour               0\n",
       "Monthly_Balance                 0\n",
       "Credit_Score                    0\n",
       "dtype: int64"
      ]
     },
     "execution_count": 61,
     "metadata": {},
     "output_type": "execute_result"
    }
   ],
   "source": [
    "train.isnull().sum()"
   ]
  },
  {
   "cell_type": "code",
   "execution_count": 62,
   "id": "1fd0ecc6",
   "metadata": {},
   "outputs": [],
   "source": [
    "train.drop(['Customer_ID'],axis=1,inplace=True)"
   ]
  },
  {
   "cell_type": "code",
   "execution_count": 63,
   "id": "09a7017d",
   "metadata": {},
   "outputs": [],
   "source": [
    "categorical = categorical.drop('Customer_ID')\n",
    "categorical = categorical.drop('Credit_Score')"
   ]
  },
  {
   "cell_type": "code",
   "execution_count": 64,
   "id": "80f4955c",
   "metadata": {},
   "outputs": [
    {
     "data": {
      "text/plain": [
       "Index(['Occupation', 'Type_of_Loan', 'Credit_Mix', 'Credit_History_Age',\n",
       "       'Payment_of_Min_Amount', 'Payment_Behaviour'],\n",
       "      dtype='object')"
      ]
     },
     "execution_count": 64,
     "metadata": {},
     "output_type": "execute_result"
    }
   ],
   "source": [
    "categorical"
   ]
  },
  {
   "cell_type": "code",
   "execution_count": 65,
   "id": "f520d8d4",
   "metadata": {},
   "outputs": [],
   "source": [
    "imputer = SimpleImputer(strategy='most_frequent')\n",
    "imputed_categorical = pd.DataFrame(imputer.fit_transform(train[categorical]),columns=categorical)"
   ]
  },
  {
   "cell_type": "code",
   "execution_count": 66,
   "id": "0070af34",
   "metadata": {},
   "outputs": [],
   "source": [
    "train[categorical] = imputed_categorical"
   ]
  },
  {
   "cell_type": "code",
   "execution_count": 67,
   "id": "db33ce00",
   "metadata": {},
   "outputs": [
    {
     "data": {
      "text/plain": [
       "False"
      ]
     },
     "execution_count": 67,
     "metadata": {},
     "output_type": "execute_result"
    }
   ],
   "source": [
    "train.isnull().sum().any()"
   ]
  },
  {
   "cell_type": "code",
   "execution_count": 68,
   "id": "00a07a48",
   "metadata": {},
   "outputs": [
    {
     "data": {
      "text/plain": [
       "(92780, 23)"
      ]
     },
     "execution_count": 68,
     "metadata": {},
     "output_type": "execute_result"
    }
   ],
   "source": [
    "train.shape"
   ]
  },
  {
   "cell_type": "code",
   "execution_count": 69,
   "id": "6871adc4",
   "metadata": {},
   "outputs": [
    {
     "data": {
      "text/plain": [
       "<Axes: >"
      ]
     },
     "execution_count": 69,
     "metadata": {},
     "output_type": "execute_result"
    },
    {
     "data": {
      "image/png": "[encoded data removed]",
      "text/plain": [
       "<Figure size 2000x2000 with 2 Axes>"
      ]
     },
     "metadata": {},
     "output_type": "display_data"
    }
   ],
   "source": [
    "plt.figure(figsize=(20,20))\n",
    "sns.heatmap(train[numerical].corr(),annot=True)"
   ]
  },
  {
   "cell_type": "code",
   "execution_count": 70,
   "id": "6fc2ae3a",
   "metadata": {},
   "outputs": [
    {
     "data": {
      "text/plain": [
       "<Axes: >"
      ]
     },
     "execution_count": 70,
     "metadata": {},
     "output_type": "execute_result"
    },
    {
     "data": {
      "image/png": "[encoded data removed]",
      "text/plain": [
       "<Figure size 640x480 with 2 Axes>"
      ]
     },
     "metadata": {},
     "output_type": "display_data"
    }
   ],
   "source": [
    "sns.heatmap(train[['Annual_Income','Monthly_Inhand_Salary']].corr(),annot=True)\n",
    "\n"
   ]
  },
  {
   "cell_type": "code",
   "execution_count": 71,
   "id": "c58e87f3",
   "metadata": {},
   "outputs": [],
   "source": [
    "train.drop(['Monthly_Inhand_Salary'],axis=1,inplace=True)"
   ]
  },
  {
   "cell_type": "code",
   "execution_count": 72,
   "id": "4456dbc4",
   "metadata": {},
   "outputs": [
    {
     "data": {
      "text/plain": [
       "Index(['Age', 'Annual_Income', 'Num_Bank_Accounts', 'Num_Credit_Card',\n",
       "       'Interest_Rate', 'Num_of_Loan', 'Delay_from_due_date',\n",
       "       'Num_of_Delayed_Payment', 'Changed_Credit_Limit',\n",
       "       'Num_Credit_Inquiries', 'Outstanding_Debt', 'Credit_Utilization_Ratio',\n",
       "       'Total_EMI_per_month', 'Amount_invested_monthly', 'Monthly_Balance'],\n",
       "      dtype='object')"
      ]
     },
     "execution_count": 72,
     "metadata": {},
     "output_type": "execute_result"
    }
   ],
   "source": [
    "numerical = numerical.drop('Monthly_Inhand_Salary')\n",
    "numerical"
   ]
  },
  {
   "cell_type": "code",
   "execution_count": 73,
   "id": "500b9d1e",
   "metadata": {},
   "outputs": [],
   "source": [
    "train[numerical] = StandardScaler().fit_transform(train[numerical])"
   ]
  },
  {
   "cell_type": "code",
   "execution_count": 74,
   "id": "eb16968f",
   "metadata": {},
   "outputs": [
    {
     "data": {
      "text/html": [
       "<div>\n",
       "<style scoped>\n",
       "    .dataframe tbody tr th:only-of-type {\n",
       "        vertical-align: middle;\n",
       "    }\n",
       "\n",
       "    .dataframe tbody tr th {\n",
       "        vertical-align: top;\n",
       "    }\n",
       "\n",
       "    .dataframe thead th {\n",
       "        text-align: right;\n",
       "    }\n",
       "</style>\n",
       "<table border=\"1\" class=\"dataframe\">\n",
       "  <thead>\n",
       "    <tr style=\"text-align: right;\">\n",
       "      <th></th>\n",
       "      <th>Age</th>\n",
       "      <th>Annual_Income</th>\n",
       "      <th>Num_Bank_Accounts</th>\n",
       "      <th>Num_Credit_Card</th>\n",
       "      <th>Interest_Rate</th>\n",
       "      <th>Num_of_Loan</th>\n",
       "      <th>Delay_from_due_date</th>\n",
       "      <th>Num_of_Delayed_Payment</th>\n",
       "      <th>Changed_Credit_Limit</th>\n",
       "      <th>Num_Credit_Inquiries</th>\n",
       "      <th>Outstanding_Debt</th>\n",
       "      <th>Credit_Utilization_Ratio</th>\n",
       "      <th>Total_EMI_per_month</th>\n",
       "      <th>Amount_invested_monthly</th>\n",
       "      <th>Monthly_Balance</th>\n",
       "    </tr>\n",
       "  </thead>\n",
       "  <tbody>\n",
       "    <tr>\n",
       "      <th>count</th>\n",
       "      <td>9.278000e+04</td>\n",
       "      <td>9.278000e+04</td>\n",
       "      <td>9.278000e+04</td>\n",
       "      <td>9.278000e+04</td>\n",
       "      <td>9.278000e+04</td>\n",
       "      <td>9.278000e+04</td>\n",
       "      <td>9.278000e+04</td>\n",
       "      <td>9.278000e+04</td>\n",
       "      <td>9.278000e+04</td>\n",
       "      <td>9.278000e+04</td>\n",
       "      <td>9.278000e+04</td>\n",
       "      <td>9.278000e+04</td>\n",
       "      <td>9.278000e+04</td>\n",
       "      <td>9.278000e+04</td>\n",
       "      <td>9.278000e+04</td>\n",
       "    </tr>\n",
       "    <tr>\n",
       "      <th>mean</th>\n",
       "      <td>2.769263e-16</td>\n",
       "      <td>1.617446e-16</td>\n",
       "      <td>5.207685e-17</td>\n",
       "      <td>1.718536e-16</td>\n",
       "      <td>-5.360853e-18</td>\n",
       "      <td>1.301921e-17</td>\n",
       "      <td>5.843329e-17</td>\n",
       "      <td>-1.432114e-17</td>\n",
       "      <td>1.638889e-17</td>\n",
       "      <td>4.595017e-17</td>\n",
       "      <td>-5.659529e-17</td>\n",
       "      <td>-1.903869e-16</td>\n",
       "      <td>-1.822690e-17</td>\n",
       "      <td>2.343458e-17</td>\n",
       "      <td>-2.450676e-18</td>\n",
       "    </tr>\n",
       "    <tr>\n",
       "      <th>std</th>\n",
       "      <td>1.000005e+00</td>\n",
       "      <td>1.000005e+00</td>\n",
       "      <td>1.000005e+00</td>\n",
       "      <td>1.000005e+00</td>\n",
       "      <td>1.000005e+00</td>\n",
       "      <td>1.000005e+00</td>\n",
       "      <td>1.000005e+00</td>\n",
       "      <td>1.000005e+00</td>\n",
       "      <td>1.000005e+00</td>\n",
       "      <td>1.000005e+00</td>\n",
       "      <td>1.000005e+00</td>\n",
       "      <td>1.000005e+00</td>\n",
       "      <td>1.000005e+00</td>\n",
       "      <td>1.000005e+00</td>\n",
       "      <td>1.000005e+00</td>\n",
       "    </tr>\n",
       "    <tr>\n",
       "      <th>min</th>\n",
       "      <td>-1.789878e+00</td>\n",
       "      <td>-1.136072e+00</td>\n",
       "      <td>-2.398657e+00</td>\n",
       "      <td>-2.546131e+00</td>\n",
       "      <td>-1.532771e-01</td>\n",
       "      <td>-1.188193e-01</td>\n",
       "      <td>-1.754038e+00</td>\n",
       "      <td>-1.554415e-01</td>\n",
       "      <td>-2.509384e+00</td>\n",
       "      <td>-1.453556e-01</td>\n",
       "      <td>-1.233992e+00</td>\n",
       "      <td>-2.402092e+00</td>\n",
       "      <td>-1.691970e-01</td>\n",
       "      <td>-3.191106e-01</td>\n",
       "      <td>-1.015276e+02</td>\n",
       "    </tr>\n",
       "    <tr>\n",
       "      <th>25%</th>\n",
       "      <td>-8.614160e-01</td>\n",
       "      <td>-8.142706e-01</td>\n",
       "      <td>-8.945952e-01</td>\n",
       "      <td>-7.102758e-01</td>\n",
       "      <td>-1.383576e-01</td>\n",
       "      <td>-8.565520e-02</td>\n",
       "      <td>-7.445454e-01</td>\n",
       "      <td>-1.008221e-01</td>\n",
       "      <td>-7.406636e-01</td>\n",
       "      <td>-1.296797e-01</td>\n",
       "      <td>-7.450932e-01</td>\n",
       "      <td>-8.264372e-01</td>\n",
       "      <td>-1.655486e-01</td>\n",
       "      <td>-2.805390e-01</td>\n",
       "      <td>1.014014e-02</td>\n",
       "    </tr>\n",
       "    <tr>\n",
       "      <th>50%</th>\n",
       "      <td>-2.580039e-02</td>\n",
       "      <td>-3.518903e-01</td>\n",
       "      <td>-1.425641e-01</td>\n",
       "      <td>-2.513121e-01</td>\n",
       "      <td>-1.277008e-01</td>\n",
       "      <td>-6.907317e-02</td>\n",
       "      <td>-2.061492e-01</td>\n",
       "      <td>-7.351239e-02</td>\n",
       "      <td>-1.238409e-01</td>\n",
       "      <td>-1.140037e-01</td>\n",
       "      <td>-2.253691e-01</td>\n",
       "      <td>3.076737e-03</td>\n",
       "      <td>-1.608658e-01</td>\n",
       "      <td>-2.474175e-01</td>\n",
       "      <td>1.014014e-02</td>\n",
       "    </tr>\n",
       "    <tr>\n",
       "      <th>75%</th>\n",
       "      <td>8.098152e-01</td>\n",
       "      <td>5.525175e-01</td>\n",
       "      <td>6.094670e-01</td>\n",
       "      <td>6.666153e-01</td>\n",
       "      <td>-1.127812e-01</td>\n",
       "      <td>-3.590910e-02</td>\n",
       "      <td>4.668460e-01</td>\n",
       "      <td>-5.530591e-02</td>\n",
       "      <td>6.371549e-01</td>\n",
       "      <td>-9.832776e-02</td>\n",
       "      <td>4.515291e-01</td>\n",
       "      <td>8.239936e-01</td>\n",
       "      <td>-1.497841e-01</td>\n",
       "      <td>-1.662992e-01</td>\n",
       "      <td>1.014014e-02</td>\n",
       "    </tr>\n",
       "    <tr>\n",
       "      <th>max</th>\n",
       "      <td>2.109662e+00</td>\n",
       "      <td>3.377785e+00</td>\n",
       "      <td>1.677814e+01</td>\n",
       "      <td>2.040205e+01</td>\n",
       "      <td>1.220012e+01</td>\n",
       "      <td>2.468791e+01</td>\n",
       "      <td>3.091527e+00</td>\n",
       "      <td>1.987168e+01</td>\n",
       "      <td>3.878818e+00</td>\n",
       "      <td>1.342479e+01</td>\n",
       "      <td>3.088760e+00</td>\n",
       "      <td>3.461519e+00</td>\n",
       "      <td>9.733051e+00</td>\n",
       "      <td>4.693171e+00</td>\n",
       "      <td>1.014014e-02</td>\n",
       "    </tr>\n",
       "  </tbody>\n",
       "</table>\n",
       "</div>"
      ],
      "text/plain": [
       "                Age  Annual_Income  Num_Bank_Accounts  Num_Credit_Card  \\\n",
       "count  9.278000e+04   9.278000e+04       9.278000e+04     9.278000e+04   \n",
       "mean   2.769263e-16   1.617446e-16       5.207685e-17     1.718536e-16   \n",
       "std    1.000005e+00   1.000005e+00       1.000005e+00     1.000005e+00   \n",
       "min   -1.789878e+00  -1.136072e+00      -2.398657e+00    -2.546131e+00   \n",
       "25%   -8.614160e-01  -8.142706e-01      -8.945952e-01    -7.102758e-01   \n",
       "50%   -2.580039e-02  -3.518903e-01      -1.425641e-01    -2.513121e-01   \n",
       "75%    8.098152e-01   5.525175e-01       6.094670e-01     6.666153e-01   \n",
       "max    2.109662e+00   3.377785e+00       1.677814e+01     2.040205e+01   \n",
       "\n",
       "       Interest_Rate   Num_of_Loan  Delay_from_due_date  \\\n",
       "count   9.278000e+04  9.278000e+04         9.278000e+04   \n",
       "mean   -5.360853e-18  1.301921e-17         5.843329e-17   \n",
       "std     1.000005e+00  1.000005e+00         1.000005e+00   \n",
       "min    -1.532771e-01 -1.188193e-01        -1.754038e+00   \n",
       "25%    -1.383576e-01 -8.565520e-02        -7.445454e-01   \n",
       "50%    -1.277008e-01 -6.907317e-02        -2.061492e-01   \n",
       "75%    -1.127812e-01 -3.590910e-02         4.668460e-01   \n",
       "max     1.220012e+01  2.468791e+01         3.091527e+00   \n",
       "\n",
       "       Num_of_Delayed_Payment  Changed_Credit_Limit  Num_Credit_Inquiries  \\\n",
       "count            9.278000e+04          9.278000e+04          9.278000e+04   \n",
       "mean            -1.432114e-17          1.638889e-17          4.595017e-17   \n",
       "std              1.000005e+00          1.000005e+00          1.000005e+00   \n",
       "min             -1.554415e-01         -2.509384e+00         -1.453556e-01   \n",
       "25%             -1.008221e-01         -7.406636e-01         -1.296797e-01   \n",
       "50%             -7.351239e-02         -1.238409e-01         -1.140037e-01   \n",
       "75%             -5.530591e-02          6.371549e-01         -9.832776e-02   \n",
       "max              1.987168e+01          3.878818e+00          1.342479e+01   \n",
       "\n",
       "       Outstanding_Debt  Credit_Utilization_Ratio  Total_EMI_per_month  \\\n",
       "count      9.278000e+04              9.278000e+04         9.278000e+04   \n",
       "mean      -5.659529e-17             -1.903869e-16        -1.822690e-17   \n",
       "std        1.000005e+00              1.000005e+00         1.000005e+00   \n",
       "min       -1.233992e+00             -2.402092e+00        -1.691970e-01   \n",
       "25%       -7.450932e-01             -8.264372e-01        -1.655486e-01   \n",
       "50%       -2.253691e-01              3.076737e-03        -1.608658e-01   \n",
       "75%        4.515291e-01              8.239936e-01        -1.497841e-01   \n",
       "max        3.088760e+00              3.461519e+00         9.733051e+00   \n",
       "\n",
       "       Amount_invested_monthly  Monthly_Balance  \n",
       "count             9.278000e+04     9.278000e+04  \n",
       "mean              2.343458e-17    -2.450676e-18  \n",
       "std               1.000005e+00     1.000005e+00  \n",
       "min              -3.191106e-01    -1.015276e+02  \n",
       "25%              -2.805390e-01     1.014014e-02  \n",
       "50%              -2.474175e-01     1.014014e-02  \n",
       "75%              -1.662992e-01     1.014014e-02  \n",
       "max               4.693171e+00     1.014014e-02  "
      ]
     },
     "execution_count": 74,
     "metadata": {},
     "output_type": "execute_result"
    }
   ],
   "source": [
    "train.describe()\n",
    "\n"
   ]
  },
  {
   "cell_type": "code",
   "execution_count": 75,
   "id": "7188b6ad",
   "metadata": {},
   "outputs": [],
   "source": [
    "for col in categorical:\n",
    "    train[col] = LabelEncoder().fit_transform(train[col])"
   ]
  },
  {
   "cell_type": "code",
   "execution_count": 76,
   "id": "03083cec",
   "metadata": {},
   "outputs": [
    {
     "data": {
      "text/html": [
       "<div>\n",
       "<style scoped>\n",
       "    .dataframe tbody tr th:only-of-type {\n",
       "        vertical-align: middle;\n",
       "    }\n",
       "\n",
       "    .dataframe tbody tr th {\n",
       "        vertical-align: top;\n",
       "    }\n",
       "\n",
       "    .dataframe thead th {\n",
       "        text-align: right;\n",
       "    }\n",
       "</style>\n",
       "<table border=\"1\" class=\"dataframe\">\n",
       "  <thead>\n",
       "    <tr style=\"text-align: right;\">\n",
       "      <th></th>\n",
       "      <th>Occupation</th>\n",
       "      <th>Type_of_Loan</th>\n",
       "      <th>Credit_Mix</th>\n",
       "      <th>Credit_History_Age</th>\n",
       "      <th>Payment_of_Min_Amount</th>\n",
       "      <th>Payment_Behaviour</th>\n",
       "    </tr>\n",
       "  </thead>\n",
       "  <tbody>\n",
       "    <tr>\n",
       "      <th>0</th>\n",
       "      <td>12</td>\n",
       "      <td>128</td>\n",
       "      <td>2</td>\n",
       "      <td>180</td>\n",
       "      <td>0</td>\n",
       "      <td>3</td>\n",
       "    </tr>\n",
       "    <tr>\n",
       "      <th>1</th>\n",
       "      <td>12</td>\n",
       "      <td>128</td>\n",
       "      <td>1</td>\n",
       "      <td>86</td>\n",
       "      <td>0</td>\n",
       "      <td>4</td>\n",
       "    </tr>\n",
       "    <tr>\n",
       "      <th>2</th>\n",
       "      <td>12</td>\n",
       "      <td>128</td>\n",
       "      <td>1</td>\n",
       "      <td>184</td>\n",
       "      <td>0</td>\n",
       "      <td>5</td>\n",
       "    </tr>\n",
       "    <tr>\n",
       "      <th>3</th>\n",
       "      <td>12</td>\n",
       "      <td>128</td>\n",
       "      <td>1</td>\n",
       "      <td>185</td>\n",
       "      <td>0</td>\n",
       "      <td>6</td>\n",
       "    </tr>\n",
       "    <tr>\n",
       "      <th>4</th>\n",
       "      <td>12</td>\n",
       "      <td>128</td>\n",
       "      <td>1</td>\n",
       "      <td>186</td>\n",
       "      <td>0</td>\n",
       "      <td>2</td>\n",
       "    </tr>\n",
       "    <tr>\n",
       "      <th>...</th>\n",
       "      <td>...</td>\n",
       "      <td>...</td>\n",
       "      <td>...</td>\n",
       "      <td>...</td>\n",
       "      <td>...</td>\n",
       "      <td>...</td>\n",
       "    </tr>\n",
       "    <tr>\n",
       "      <th>92775</th>\n",
       "      <td>9</td>\n",
       "      <td>683</td>\n",
       "      <td>2</td>\n",
       "      <td>307</td>\n",
       "      <td>0</td>\n",
       "      <td>1</td>\n",
       "    </tr>\n",
       "    <tr>\n",
       "      <th>92776</th>\n",
       "      <td>9</td>\n",
       "      <td>683</td>\n",
       "      <td>2</td>\n",
       "      <td>308</td>\n",
       "      <td>0</td>\n",
       "      <td>2</td>\n",
       "    </tr>\n",
       "    <tr>\n",
       "      <th>92777</th>\n",
       "      <td>9</td>\n",
       "      <td>683</td>\n",
       "      <td>1</td>\n",
       "      <td>309</td>\n",
       "      <td>0</td>\n",
       "      <td>1</td>\n",
       "    </tr>\n",
       "    <tr>\n",
       "      <th>92778</th>\n",
       "      <td>9</td>\n",
       "      <td>683</td>\n",
       "      <td>1</td>\n",
       "      <td>310</td>\n",
       "      <td>0</td>\n",
       "      <td>4</td>\n",
       "    </tr>\n",
       "    <tr>\n",
       "      <th>92779</th>\n",
       "      <td>9</td>\n",
       "      <td>683</td>\n",
       "      <td>1</td>\n",
       "      <td>301</td>\n",
       "      <td>0</td>\n",
       "      <td>0</td>\n",
       "    </tr>\n",
       "  </tbody>\n",
       "</table>\n",
       "<p>92780 rows × 6 columns</p>\n",
       "</div>"
      ],
      "text/plain": [
       "       Occupation  Type_of_Loan  Credit_Mix  Credit_History_Age  \\\n",
       "0              12           128           2                 180   \n",
       "1              12           128           1                  86   \n",
       "2              12           128           1                 184   \n",
       "3              12           128           1                 185   \n",
       "4              12           128           1                 186   \n",
       "...           ...           ...         ...                 ...   \n",
       "92775           9           683           2                 307   \n",
       "92776           9           683           2                 308   \n",
       "92777           9           683           1                 309   \n",
       "92778           9           683           1                 310   \n",
       "92779           9           683           1                 301   \n",
       "\n",
       "       Payment_of_Min_Amount  Payment_Behaviour  \n",
       "0                          0                  3  \n",
       "1                          0                  4  \n",
       "2                          0                  5  \n",
       "3                          0                  6  \n",
       "4                          0                  2  \n",
       "...                      ...                ...  \n",
       "92775                      0                  1  \n",
       "92776                      0                  2  \n",
       "92777                      0                  1  \n",
       "92778                      0                  4  \n",
       "92779                      0                  0  \n",
       "\n",
       "[92780 rows x 6 columns]"
      ]
     },
     "execution_count": 76,
     "metadata": {},
     "output_type": "execute_result"
    }
   ],
   "source": [
    "train[categorical]"
   ]
  },
  {
   "cell_type": "code",
   "execution_count": 77,
   "id": "a4467efa",
   "metadata": {},
   "outputs": [],
   "source": [
    "X = train.drop('Credit_Score',axis=1)\n",
    "y = train.Credit_Score"
   ]
  },
  {
   "cell_type": "code",
   "execution_count": 78,
   "id": "9f07c106",
   "metadata": {},
   "outputs": [
    {
     "data": {
      "text/plain": [
       "Credit_Score\n",
       "Standard    49374\n",
       "Poor        26932\n",
       "Good        16474\n",
       "Name: count, dtype: int64"
      ]
     },
     "execution_count": 78,
     "metadata": {},
     "output_type": "execute_result"
    }
   ],
   "source": [
    "y.value_counts()"
   ]
  },
  {
   "cell_type": "code",
   "execution_count": 82,
   "id": "31212f1a",
   "metadata": {},
   "outputs": [
    {
     "data": {
      "text/plain": [
       "<Axes: xlabel='Credit_Score', ylabel='Count'>"
      ]
     },
     "execution_count": 82,
     "metadata": {},
     "output_type": "execute_result"
    },
    {
     "data": {
      "image/png": "[encoded data removed]",
      "text/plain": [
       "<Figure size 640x480 with 1 Axes>"
      ]
     },
     "metadata": {},
     "output_type": "display_data"
    }
   ],
   "source": [
    "sns.histplot(y)"
   ]
  },
  {
   "cell_type": "code",
   "execution_count": 83,
   "id": "12cfe7cc",
   "metadata": {},
   "outputs": [],
   "source": [
    "y = y.map({'Poor':0,'Good':1,'Standard':2})\n"
   ]
  },
  {
   "cell_type": "code",
   "execution_count": 84,
   "id": "9a0bb92f",
   "metadata": {},
   "outputs": [
    {
     "data": {
      "text/plain": [
       "((74224, 21), (18556, 21))"
      ]
     },
     "execution_count": 84,
     "metadata": {},
     "output_type": "execute_result"
    }
   ],
   "source": [
    "x_train,x_test,y_train,y_test = train_test_split(X,y,test_size=0.2,random_state=42)\n",
    "x_train.shape,x_test.shape"
   ]
  },
  {
   "cell_type": "code",
   "execution_count": 85,
   "id": "733eb439",
   "metadata": {},
   "outputs": [
    {
     "name": "stdout",
     "output_type": "stream",
     "text": [
      "              precision    recall  f1-score   support\n",
      "\n",
      "           0       0.78      0.81      0.80      5375\n",
      "           1       0.74      0.73      0.73      3227\n",
      "           2       0.82      0.81      0.81      9954\n",
      "\n",
      "    accuracy                           0.79     18556\n",
      "   macro avg       0.78      0.78      0.78     18556\n",
      "weighted avg       0.79      0.79      0.79     18556\n",
      "\n"
     ]
    },
    {
     "data": {
      "text/plain": [
       "<sklearn.metrics._plot.confusion_matrix.ConfusionMatrixDisplay at 0x1d9a80fe8d0>"
      ]
     },
     "execution_count": 85,
     "metadata": {},
     "output_type": "execute_result"
    },
    {
     "data": {
      "image/png": "[encoded data removed]",
      "text/plain": [
       "<Figure size 640x480 with 2 Axes>"
      ]
     },
     "metadata": {},
     "output_type": "display_data"
    }
   ],
   "source": [
    "model = RandomForestClassifier(random_state=1234)\n",
    "model.fit(x_train,y_train)\n",
    "y_pred = model.predict(x_test)\n",
    "print(classification_report(y_test,y_pred))\n",
    "confusion_matrixDisply = ConfusionMatrixDisplay(confusion_matrix(y_test,y_pred),display_labels=['Poor','Good','Standard'])\n",
    "confusion_matrixDisply.plot()"
   ]
  },
  {
   "cell_type": "code",
   "execution_count": 86,
   "id": "77ef8d26",
   "metadata": {
    "scrolled": false
   },
   "outputs": [
    {
     "name": "stdout",
     "output_type": "stream",
     "text": [
      "Learning rate set to 0.098565\n",
      "0:\tlearn: 1.0358626\ttotal: 221ms\tremaining: 3m 40s\n",
      "1:\tlearn: 0.9867738\ttotal: 254ms\tremaining: 2m 6s\n",
      "2:\tlearn: 0.9463121\ttotal: 284ms\tremaining: 1m 34s\n",
      "3:\tlearn: 0.9134606\ttotal: 310ms\tremaining: 1m 17s\n",
      "4:\tlearn: 0.8856613\ttotal: 340ms\tremaining: 1m 7s\n",
      "5:\tlearn: 0.8608485\ttotal: 367ms\tremaining: 1m\n",
      "6:\tlearn: 0.8407664\ttotal: 396ms\tremaining: 56.2s\n",
      "7:\tlearn: 0.8235028\ttotal: 427ms\tremaining: 52.9s\n",
      "8:\tlearn: 0.8081961\ttotal: 465ms\tremaining: 51.2s\n",
      "9:\tlearn: 0.7946479\ttotal: 495ms\tremaining: 49s\n",
      "10:\tlearn: 0.7825221\ttotal: 530ms\tremaining: 47.6s\n",
      "11:\tlearn: 0.7728582\ttotal: 561ms\tremaining: 46.2s\n",
      "12:\tlearn: 0.7642274\ttotal: 593ms\tremaining: 45s\n",
      "13:\tlearn: 0.7562471\ttotal: 623ms\tremaining: 43.9s\n",
      "14:\tlearn: 0.7495497\ttotal: 659ms\tremaining: 43.3s\n",
      "15:\tlearn: 0.7433965\ttotal: 691ms\tremaining: 42.5s\n",
      "16:\tlearn: 0.7380401\ttotal: 716ms\tremaining: 41.4s\n",
      "17:\tlearn: 0.7326177\ttotal: 748ms\tremaining: 40.8s\n",
      "18:\tlearn: 0.7275569\ttotal: 777ms\tremaining: 40.1s\n",
      "19:\tlearn: 0.7236466\ttotal: 805ms\tremaining: 39.5s\n",
      "20:\tlearn: 0.7200676\ttotal: 837ms\tremaining: 39s\n",
      "21:\tlearn: 0.7162950\ttotal: 869ms\tremaining: 38.6s\n",
      "22:\tlearn: 0.7137122\ttotal: 905ms\tremaining: 38.4s\n",
      "23:\tlearn: 0.7110857\ttotal: 934ms\tremaining: 38s\n",
      "24:\tlearn: 0.7084556\ttotal: 964ms\tremaining: 37.6s\n",
      "25:\tlearn: 0.7061056\ttotal: 996ms\tremaining: 37.3s\n",
      "26:\tlearn: 0.7042875\ttotal: 1.03s\tremaining: 37.2s\n",
      "27:\tlearn: 0.7024497\ttotal: 1.06s\tremaining: 37s\n",
      "28:\tlearn: 0.7011096\ttotal: 1.1s\tremaining: 36.8s\n",
      "29:\tlearn: 0.6996976\ttotal: 1.13s\tremaining: 36.5s\n",
      "30:\tlearn: 0.6978651\ttotal: 1.16s\tremaining: 36.2s\n",
      "31:\tlearn: 0.6967107\ttotal: 1.19s\tremaining: 36.1s\n",
      "32:\tlearn: 0.6954371\ttotal: 1.22s\tremaining: 35.7s\n",
      "33:\tlearn: 0.6947196\ttotal: 1.25s\tremaining: 35.4s\n",
      "34:\tlearn: 0.6934111\ttotal: 1.27s\tremaining: 35.1s\n",
      "35:\tlearn: 0.6925642\ttotal: 1.3s\tremaining: 35s\n",
      "36:\tlearn: 0.6914962\ttotal: 1.33s\tremaining: 34.7s\n",
      "37:\tlearn: 0.6908893\ttotal: 1.35s\tremaining: 34.3s\n",
      "38:\tlearn: 0.6898576\ttotal: 1.38s\tremaining: 34s\n",
      "39:\tlearn: 0.6891340\ttotal: 1.41s\tremaining: 33.8s\n",
      "40:\tlearn: 0.6882043\ttotal: 1.44s\tremaining: 33.6s\n",
      "41:\tlearn: 0.6875358\ttotal: 1.47s\tremaining: 33.5s\n",
      "42:\tlearn: 0.6867186\ttotal: 1.51s\tremaining: 33.7s\n",
      "43:\tlearn: 0.6857952\ttotal: 1.54s\tremaining: 33.6s\n",
      "44:\tlearn: 0.6847111\ttotal: 1.58s\tremaining: 33.5s\n",
      "45:\tlearn: 0.6842948\ttotal: 1.61s\tremaining: 33.3s\n",
      "46:\tlearn: 0.6836253\ttotal: 1.63s\tremaining: 33.1s\n",
      "47:\tlearn: 0.6827606\ttotal: 1.67s\tremaining: 33.2s\n",
      "48:\tlearn: 0.6822963\ttotal: 1.7s\tremaining: 33.1s\n",
      "49:\tlearn: 0.6818665\ttotal: 1.75s\tremaining: 33.3s\n",
      "50:\tlearn: 0.6814474\ttotal: 1.79s\tremaining: 33.3s\n",
      "51:\tlearn: 0.6811003\ttotal: 1.82s\tremaining: 33.3s\n",
      "52:\tlearn: 0.6805658\ttotal: 1.86s\tremaining: 33.3s\n",
      "53:\tlearn: 0.6801772\ttotal: 1.89s\tremaining: 33.1s\n",
      "54:\tlearn: 0.6797401\ttotal: 1.92s\tremaining: 33s\n",
      "55:\tlearn: 0.6794010\ttotal: 1.96s\tremaining: 33s\n",
      "56:\tlearn: 0.6788355\ttotal: 1.99s\tremaining: 32.9s\n",
      "57:\tlearn: 0.6784808\ttotal: 2.02s\tremaining: 32.9s\n",
      "58:\tlearn: 0.6780730\ttotal: 2.06s\tremaining: 32.8s\n",
      "59:\tlearn: 0.6774013\ttotal: 2.09s\tremaining: 32.8s\n",
      "60:\tlearn: 0.6769083\ttotal: 2.13s\tremaining: 32.8s\n",
      "61:\tlearn: 0.6766273\ttotal: 2.16s\tremaining: 32.7s\n",
      "62:\tlearn: 0.6762665\ttotal: 2.21s\tremaining: 32.8s\n",
      "63:\tlearn: 0.6758334\ttotal: 2.24s\tremaining: 32.7s\n",
      "64:\tlearn: 0.6753792\ttotal: 2.27s\tremaining: 32.7s\n",
      "65:\tlearn: 0.6750823\ttotal: 2.3s\tremaining: 32.6s\n",
      "66:\tlearn: 0.6746509\ttotal: 2.34s\tremaining: 32.5s\n",
      "67:\tlearn: 0.6742602\ttotal: 2.36s\tremaining: 32.4s\n",
      "68:\tlearn: 0.6737642\ttotal: 2.4s\tremaining: 32.4s\n",
      "69:\tlearn: 0.6735591\ttotal: 2.44s\tremaining: 32.4s\n",
      "70:\tlearn: 0.6730894\ttotal: 2.47s\tremaining: 32.3s\n",
      "71:\tlearn: 0.6727455\ttotal: 2.5s\tremaining: 32.3s\n",
      "72:\tlearn: 0.6724037\ttotal: 2.54s\tremaining: 32.2s\n",
      "73:\tlearn: 0.6721545\ttotal: 2.58s\tremaining: 32.3s\n",
      "74:\tlearn: 0.6717809\ttotal: 2.62s\tremaining: 32.3s\n",
      "75:\tlearn: 0.6714391\ttotal: 2.65s\tremaining: 32.3s\n",
      "76:\tlearn: 0.6711027\ttotal: 2.68s\tremaining: 32.1s\n",
      "77:\tlearn: 0.6707588\ttotal: 2.71s\tremaining: 32s\n",
      "78:\tlearn: 0.6703602\ttotal: 2.75s\tremaining: 32.1s\n",
      "79:\tlearn: 0.6700879\ttotal: 2.78s\tremaining: 32s\n",
      "80:\tlearn: 0.6697894\ttotal: 2.81s\tremaining: 31.9s\n",
      "81:\tlearn: 0.6694459\ttotal: 2.83s\tremaining: 31.7s\n",
      "82:\tlearn: 0.6691366\ttotal: 2.87s\tremaining: 31.7s\n",
      "83:\tlearn: 0.6687260\ttotal: 2.89s\tremaining: 31.5s\n",
      "84:\tlearn: 0.6685080\ttotal: 2.92s\tremaining: 31.4s\n",
      "85:\tlearn: 0.6682641\ttotal: 2.94s\tremaining: 31.3s\n",
      "86:\tlearn: 0.6680447\ttotal: 2.97s\tremaining: 31.2s\n",
      "87:\tlearn: 0.6677839\ttotal: 3s\tremaining: 31.1s\n",
      "88:\tlearn: 0.6673980\ttotal: 3.02s\tremaining: 31s\n",
      "89:\tlearn: 0.6670396\ttotal: 3.06s\tremaining: 30.9s\n",
      "90:\tlearn: 0.6668148\ttotal: 3.11s\tremaining: 31s\n",
      "91:\tlearn: 0.6665129\ttotal: 3.14s\tremaining: 31s\n",
      "92:\tlearn: 0.6662813\ttotal: 3.17s\tremaining: 30.9s\n",
      "93:\tlearn: 0.6659824\ttotal: 3.2s\tremaining: 30.9s\n",
      "94:\tlearn: 0.6657191\ttotal: 3.23s\tremaining: 30.8s\n",
      "95:\tlearn: 0.6652950\ttotal: 3.26s\tremaining: 30.7s\n",
      "96:\tlearn: 0.6648343\ttotal: 3.29s\tremaining: 30.6s\n",
      "97:\tlearn: 0.6646516\ttotal: 3.33s\tremaining: 30.6s\n",
      "98:\tlearn: 0.6642320\ttotal: 3.36s\tremaining: 30.6s\n",
      "99:\tlearn: 0.6638758\ttotal: 3.39s\tremaining: 30.5s\n",
      "100:\tlearn: 0.6634989\ttotal: 3.43s\tremaining: 30.5s\n",
      "101:\tlearn: 0.6632146\ttotal: 3.47s\tremaining: 30.6s\n",
      "102:\tlearn: 0.6628904\ttotal: 3.51s\tremaining: 30.6s\n",
      "103:\tlearn: 0.6626149\ttotal: 3.54s\tremaining: 30.5s\n",
      "104:\tlearn: 0.6623488\ttotal: 3.58s\tremaining: 30.5s\n",
      "105:\tlearn: 0.6619982\ttotal: 3.61s\tremaining: 30.5s\n",
      "106:\tlearn: 0.6615538\ttotal: 3.64s\tremaining: 30.4s\n",
      "107:\tlearn: 0.6612602\ttotal: 3.67s\tremaining: 30.3s\n",
      "108:\tlearn: 0.6609316\ttotal: 3.7s\tremaining: 30.3s\n",
      "109:\tlearn: 0.6605944\ttotal: 3.75s\tremaining: 30.3s\n",
      "110:\tlearn: 0.6602183\ttotal: 3.79s\tremaining: 30.3s\n",
      "111:\tlearn: 0.6600132\ttotal: 3.81s\tremaining: 30.3s\n",
      "112:\tlearn: 0.6595914\ttotal: 3.86s\tremaining: 30.3s\n",
      "113:\tlearn: 0.6593930\ttotal: 3.89s\tremaining: 30.2s\n",
      "114:\tlearn: 0.6590003\ttotal: 3.91s\tremaining: 30.1s\n",
      "115:\tlearn: 0.6586258\ttotal: 3.94s\tremaining: 30s\n",
      "116:\tlearn: 0.6583977\ttotal: 3.97s\tremaining: 29.9s\n",
      "117:\tlearn: 0.6580839\ttotal: 4.02s\tremaining: 30s\n",
      "118:\tlearn: 0.6577273\ttotal: 4.05s\tremaining: 30s\n",
      "119:\tlearn: 0.6573676\ttotal: 4.08s\tremaining: 29.9s\n",
      "120:\tlearn: 0.6570627\ttotal: 4.11s\tremaining: 29.9s\n",
      "121:\tlearn: 0.6566918\ttotal: 4.14s\tremaining: 29.8s\n",
      "122:\tlearn: 0.6563801\ttotal: 4.17s\tremaining: 29.7s\n",
      "123:\tlearn: 0.6560124\ttotal: 4.2s\tremaining: 29.7s\n",
      "124:\tlearn: 0.6556598\ttotal: 4.24s\tremaining: 29.6s\n",
      "125:\tlearn: 0.6553650\ttotal: 4.26s\tremaining: 29.6s\n",
      "126:\tlearn: 0.6551588\ttotal: 4.29s\tremaining: 29.5s\n",
      "127:\tlearn: 0.6547896\ttotal: 4.32s\tremaining: 29.4s\n",
      "128:\tlearn: 0.6543837\ttotal: 4.34s\tremaining: 29.3s\n",
      "129:\tlearn: 0.6539480\ttotal: 4.37s\tremaining: 29.3s\n",
      "130:\tlearn: 0.6537640\ttotal: 4.4s\tremaining: 29.2s\n",
      "131:\tlearn: 0.6535572\ttotal: 4.43s\tremaining: 29.1s\n",
      "132:\tlearn: 0.6531375\ttotal: 4.46s\tremaining: 29.1s\n",
      "133:\tlearn: 0.6529511\ttotal: 4.49s\tremaining: 29s\n",
      "134:\tlearn: 0.6526711\ttotal: 4.51s\tremaining: 28.9s\n",
      "135:\tlearn: 0.6523150\ttotal: 4.54s\tremaining: 28.8s\n",
      "136:\tlearn: 0.6520922\ttotal: 4.56s\tremaining: 28.8s\n",
      "137:\tlearn: 0.6517654\ttotal: 4.6s\tremaining: 28.7s\n",
      "138:\tlearn: 0.6514255\ttotal: 4.64s\tremaining: 28.7s\n",
      "139:\tlearn: 0.6511466\ttotal: 4.66s\tremaining: 28.6s\n",
      "140:\tlearn: 0.6507903\ttotal: 4.69s\tremaining: 28.5s\n",
      "141:\tlearn: 0.6505818\ttotal: 4.71s\tremaining: 28.4s\n",
      "142:\tlearn: 0.6502683\ttotal: 4.74s\tremaining: 28.4s\n",
      "143:\tlearn: 0.6497588\ttotal: 4.77s\tremaining: 28.3s\n",
      "144:\tlearn: 0.6495678\ttotal: 4.79s\tremaining: 28.3s\n",
      "145:\tlearn: 0.6489247\ttotal: 4.83s\tremaining: 28.2s\n",
      "146:\tlearn: 0.6487617\ttotal: 4.85s\tremaining: 28.1s\n",
      "147:\tlearn: 0.6482868\ttotal: 4.87s\tremaining: 28.1s\n",
      "148:\tlearn: 0.6479758\ttotal: 4.89s\tremaining: 28s\n",
      "149:\tlearn: 0.6478458\ttotal: 4.92s\tremaining: 27.9s\n",
      "150:\tlearn: 0.6476201\ttotal: 4.94s\tremaining: 27.8s\n",
      "151:\tlearn: 0.6473625\ttotal: 4.96s\tremaining: 27.7s\n",
      "152:\tlearn: 0.6469972\ttotal: 4.99s\tremaining: 27.6s\n",
      "153:\tlearn: 0.6467335\ttotal: 5.01s\tremaining: 27.5s\n",
      "154:\tlearn: 0.6464062\ttotal: 5.04s\tremaining: 27.5s\n",
      "155:\tlearn: 0.6461256\ttotal: 5.07s\tremaining: 27.4s\n",
      "156:\tlearn: 0.6458133\ttotal: 5.1s\tremaining: 27.4s\n",
      "157:\tlearn: 0.6455677\ttotal: 5.13s\tremaining: 27.4s\n",
      "158:\tlearn: 0.6453133\ttotal: 5.17s\tremaining: 27.3s\n",
      "159:\tlearn: 0.6450884\ttotal: 5.2s\tremaining: 27.3s\n",
      "160:\tlearn: 0.6446941\ttotal: 5.23s\tremaining: 27.3s\n"
     ]
    },
    {
     "name": "stdout",
     "output_type": "stream",
     "text": [
      "161:\tlearn: 0.6443572\ttotal: 5.26s\tremaining: 27.2s\n",
      "162:\tlearn: 0.6440163\ttotal: 5.29s\tremaining: 27.2s\n",
      "163:\tlearn: 0.6437022\ttotal: 5.32s\tremaining: 27.1s\n",
      "164:\tlearn: 0.6434392\ttotal: 5.35s\tremaining: 27.1s\n",
      "165:\tlearn: 0.6432856\ttotal: 5.37s\tremaining: 27s\n",
      "166:\tlearn: 0.6429662\ttotal: 5.4s\tremaining: 26.9s\n",
      "167:\tlearn: 0.6427866\ttotal: 5.43s\tremaining: 26.9s\n",
      "168:\tlearn: 0.6425538\ttotal: 5.47s\tremaining: 26.9s\n",
      "169:\tlearn: 0.6421910\ttotal: 5.5s\tremaining: 26.9s\n",
      "170:\tlearn: 0.6419082\ttotal: 5.55s\tremaining: 26.9s\n",
      "171:\tlearn: 0.6416821\ttotal: 5.59s\tremaining: 26.9s\n",
      "172:\tlearn: 0.6415247\ttotal: 5.63s\tremaining: 26.9s\n",
      "173:\tlearn: 0.6412690\ttotal: 5.65s\tremaining: 26.8s\n",
      "174:\tlearn: 0.6410439\ttotal: 5.68s\tremaining: 26.8s\n",
      "175:\tlearn: 0.6408202\ttotal: 5.71s\tremaining: 26.8s\n",
      "176:\tlearn: 0.6405794\ttotal: 5.74s\tremaining: 26.7s\n",
      "177:\tlearn: 0.6403936\ttotal: 5.77s\tremaining: 26.6s\n",
      "178:\tlearn: 0.6401355\ttotal: 5.79s\tremaining: 26.6s\n",
      "179:\tlearn: 0.6399455\ttotal: 5.82s\tremaining: 26.5s\n",
      "180:\tlearn: 0.6397601\ttotal: 5.84s\tremaining: 26.4s\n",
      "181:\tlearn: 0.6395943\ttotal: 5.87s\tremaining: 26.4s\n",
      "182:\tlearn: 0.6394020\ttotal: 5.89s\tremaining: 26.3s\n",
      "183:\tlearn: 0.6390374\ttotal: 5.93s\tremaining: 26.3s\n",
      "184:\tlearn: 0.6387091\ttotal: 5.97s\tremaining: 26.3s\n",
      "185:\tlearn: 0.6384021\ttotal: 6.01s\tremaining: 26.3s\n",
      "186:\tlearn: 0.6382497\ttotal: 6.04s\tremaining: 26.3s\n",
      "187:\tlearn: 0.6380954\ttotal: 6.07s\tremaining: 26.2s\n",
      "188:\tlearn: 0.6377476\ttotal: 6.1s\tremaining: 26.2s\n",
      "189:\tlearn: 0.6375906\ttotal: 6.13s\tremaining: 26.1s\n",
      "190:\tlearn: 0.6373244\ttotal: 6.16s\tremaining: 26.1s\n",
      "191:\tlearn: 0.6371020\ttotal: 6.19s\tremaining: 26.1s\n",
      "192:\tlearn: 0.6370134\ttotal: 6.22s\tremaining: 26s\n",
      "193:\tlearn: 0.6368382\ttotal: 6.25s\tremaining: 25.9s\n",
      "194:\tlearn: 0.6365531\ttotal: 6.28s\tremaining: 25.9s\n",
      "195:\tlearn: 0.6362390\ttotal: 6.3s\tremaining: 25.9s\n",
      "196:\tlearn: 0.6360198\ttotal: 6.33s\tremaining: 25.8s\n",
      "197:\tlearn: 0.6358073\ttotal: 6.36s\tremaining: 25.8s\n",
      "198:\tlearn: 0.6353419\ttotal: 6.39s\tremaining: 25.7s\n",
      "199:\tlearn: 0.6351644\ttotal: 6.43s\tremaining: 25.7s\n",
      "200:\tlearn: 0.6348431\ttotal: 6.46s\tremaining: 25.7s\n",
      "201:\tlearn: 0.6346841\ttotal: 6.5s\tremaining: 25.7s\n",
      "202:\tlearn: 0.6344714\ttotal: 6.54s\tremaining: 25.7s\n",
      "203:\tlearn: 0.6341974\ttotal: 6.56s\tremaining: 25.6s\n",
      "204:\tlearn: 0.6338707\ttotal: 6.59s\tremaining: 25.6s\n",
      "205:\tlearn: 0.6335965\ttotal: 6.62s\tremaining: 25.5s\n",
      "206:\tlearn: 0.6333830\ttotal: 6.65s\tremaining: 25.5s\n",
      "207:\tlearn: 0.6330348\ttotal: 6.68s\tremaining: 25.4s\n",
      "208:\tlearn: 0.6327571\ttotal: 6.71s\tremaining: 25.4s\n",
      "209:\tlearn: 0.6326686\ttotal: 6.74s\tremaining: 25.4s\n",
      "210:\tlearn: 0.6325451\ttotal: 6.77s\tremaining: 25.3s\n",
      "211:\tlearn: 0.6321056\ttotal: 6.81s\tremaining: 25.3s\n",
      "212:\tlearn: 0.6317554\ttotal: 6.84s\tremaining: 25.3s\n",
      "213:\tlearn: 0.6314857\ttotal: 6.87s\tremaining: 25.2s\n",
      "214:\tlearn: 0.6311514\ttotal: 6.89s\tremaining: 25.2s\n",
      "215:\tlearn: 0.6307835\ttotal: 6.93s\tremaining: 25.2s\n",
      "216:\tlearn: 0.6306425\ttotal: 6.96s\tremaining: 25.1s\n",
      "217:\tlearn: 0.6303116\ttotal: 6.99s\tremaining: 25.1s\n",
      "218:\tlearn: 0.6300503\ttotal: 7.02s\tremaining: 25s\n",
      "219:\tlearn: 0.6297531\ttotal: 7.06s\tremaining: 25s\n",
      "220:\tlearn: 0.6295063\ttotal: 7.1s\tremaining: 25s\n",
      "221:\tlearn: 0.6293160\ttotal: 7.13s\tremaining: 25s\n",
      "222:\tlearn: 0.6290848\ttotal: 7.17s\tremaining: 25s\n",
      "223:\tlearn: 0.6288311\ttotal: 7.21s\tremaining: 25s\n",
      "224:\tlearn: 0.6286374\ttotal: 7.23s\tremaining: 24.9s\n",
      "225:\tlearn: 0.6284133\ttotal: 7.26s\tremaining: 24.9s\n",
      "226:\tlearn: 0.6280443\ttotal: 7.29s\tremaining: 24.8s\n",
      "227:\tlearn: 0.6278713\ttotal: 7.32s\tremaining: 24.8s\n",
      "228:\tlearn: 0.6276594\ttotal: 7.36s\tremaining: 24.8s\n",
      "229:\tlearn: 0.6273683\ttotal: 7.39s\tremaining: 24.7s\n",
      "230:\tlearn: 0.6270913\ttotal: 7.42s\tremaining: 24.7s\n",
      "231:\tlearn: 0.6266801\ttotal: 7.46s\tremaining: 24.7s\n",
      "232:\tlearn: 0.6265294\ttotal: 7.5s\tremaining: 24.7s\n",
      "233:\tlearn: 0.6262294\ttotal: 7.54s\tremaining: 24.7s\n",
      "234:\tlearn: 0.6260239\ttotal: 7.59s\tremaining: 24.7s\n",
      "235:\tlearn: 0.6258306\ttotal: 7.62s\tremaining: 24.7s\n",
      "236:\tlearn: 0.6256679\ttotal: 7.64s\tremaining: 24.6s\n",
      "237:\tlearn: 0.6254131\ttotal: 7.67s\tremaining: 24.5s\n",
      "238:\tlearn: 0.6252688\ttotal: 7.69s\tremaining: 24.5s\n",
      "239:\tlearn: 0.6251239\ttotal: 7.71s\tremaining: 24.4s\n",
      "240:\tlearn: 0.6250167\ttotal: 7.74s\tremaining: 24.4s\n",
      "241:\tlearn: 0.6246666\ttotal: 7.77s\tremaining: 24.3s\n",
      "242:\tlearn: 0.6245294\ttotal: 7.8s\tremaining: 24.3s\n",
      "243:\tlearn: 0.6243222\ttotal: 7.83s\tremaining: 24.3s\n",
      "244:\tlearn: 0.6241950\ttotal: 7.86s\tremaining: 24.2s\n",
      "245:\tlearn: 0.6240377\ttotal: 7.89s\tremaining: 24.2s\n",
      "246:\tlearn: 0.6238486\ttotal: 7.92s\tremaining: 24.1s\n",
      "247:\tlearn: 0.6236068\ttotal: 7.95s\tremaining: 24.1s\n",
      "248:\tlearn: 0.6234854\ttotal: 7.97s\tremaining: 24s\n",
      "249:\tlearn: 0.6231568\ttotal: 8.01s\tremaining: 24s\n",
      "250:\tlearn: 0.6229970\ttotal: 8.04s\tremaining: 24s\n",
      "251:\tlearn: 0.6227588\ttotal: 8.07s\tremaining: 24s\n",
      "252:\tlearn: 0.6225744\ttotal: 8.11s\tremaining: 23.9s\n",
      "253:\tlearn: 0.6223377\ttotal: 8.14s\tremaining: 23.9s\n",
      "254:\tlearn: 0.6221465\ttotal: 8.16s\tremaining: 23.8s\n",
      "255:\tlearn: 0.6218240\ttotal: 8.19s\tremaining: 23.8s\n",
      "256:\tlearn: 0.6216227\ttotal: 8.22s\tremaining: 23.8s\n",
      "257:\tlearn: 0.6213599\ttotal: 8.26s\tremaining: 23.8s\n",
      "258:\tlearn: 0.6211754\ttotal: 8.29s\tremaining: 23.7s\n",
      "259:\tlearn: 0.6209251\ttotal: 8.32s\tremaining: 23.7s\n",
      "260:\tlearn: 0.6207018\ttotal: 8.36s\tremaining: 23.7s\n",
      "261:\tlearn: 0.6204636\ttotal: 8.39s\tremaining: 23.6s\n",
      "262:\tlearn: 0.6203663\ttotal: 8.43s\tremaining: 23.6s\n",
      "263:\tlearn: 0.6201769\ttotal: 8.47s\tremaining: 23.6s\n",
      "264:\tlearn: 0.6200627\ttotal: 8.51s\tremaining: 23.6s\n",
      "265:\tlearn: 0.6199156\ttotal: 8.55s\tremaining: 23.6s\n",
      "266:\tlearn: 0.6195810\ttotal: 8.59s\tremaining: 23.6s\n",
      "267:\tlearn: 0.6193336\ttotal: 8.63s\tremaining: 23.6s\n",
      "268:\tlearn: 0.6191601\ttotal: 8.65s\tremaining: 23.5s\n",
      "269:\tlearn: 0.6189710\ttotal: 8.69s\tremaining: 23.5s\n",
      "270:\tlearn: 0.6188138\ttotal: 8.71s\tremaining: 23.4s\n",
      "271:\tlearn: 0.6186761\ttotal: 8.74s\tremaining: 23.4s\n",
      "272:\tlearn: 0.6184379\ttotal: 8.77s\tremaining: 23.4s\n",
      "273:\tlearn: 0.6183077\ttotal: 8.8s\tremaining: 23.3s\n",
      "274:\tlearn: 0.6180869\ttotal: 8.84s\tremaining: 23.3s\n",
      "275:\tlearn: 0.6179499\ttotal: 8.87s\tremaining: 23.3s\n",
      "276:\tlearn: 0.6178045\ttotal: 8.91s\tremaining: 23.3s\n",
      "277:\tlearn: 0.6176820\ttotal: 8.94s\tremaining: 23.2s\n",
      "278:\tlearn: 0.6176114\ttotal: 8.98s\tremaining: 23.2s\n",
      "279:\tlearn: 0.6174554\ttotal: 9.01s\tremaining: 23.2s\n",
      "280:\tlearn: 0.6171667\ttotal: 9.06s\tremaining: 23.2s\n",
      "281:\tlearn: 0.6169604\ttotal: 9.1s\tremaining: 23.2s\n",
      "282:\tlearn: 0.6166791\ttotal: 9.13s\tremaining: 23.1s\n",
      "283:\tlearn: 0.6164892\ttotal: 9.16s\tremaining: 23.1s\n",
      "284:\tlearn: 0.6162838\ttotal: 9.2s\tremaining: 23.1s\n",
      "285:\tlearn: 0.6160591\ttotal: 9.23s\tremaining: 23s\n",
      "286:\tlearn: 0.6159578\ttotal: 9.26s\tremaining: 23s\n",
      "287:\tlearn: 0.6158154\ttotal: 9.29s\tremaining: 23s\n",
      "288:\tlearn: 0.6156358\ttotal: 9.32s\tremaining: 22.9s\n",
      "289:\tlearn: 0.6154411\ttotal: 9.36s\tremaining: 22.9s\n",
      "290:\tlearn: 0.6152651\ttotal: 9.39s\tremaining: 22.9s\n",
      "291:\tlearn: 0.6151695\ttotal: 9.44s\tremaining: 22.9s\n",
      "292:\tlearn: 0.6150218\ttotal: 9.48s\tremaining: 22.9s\n",
      "293:\tlearn: 0.6149355\ttotal: 9.52s\tremaining: 22.9s\n",
      "294:\tlearn: 0.6146910\ttotal: 9.56s\tremaining: 22.8s\n",
      "295:\tlearn: 0.6144857\ttotal: 9.59s\tremaining: 22.8s\n",
      "296:\tlearn: 0.6143589\ttotal: 9.62s\tremaining: 22.8s\n",
      "297:\tlearn: 0.6142405\ttotal: 9.65s\tremaining: 22.7s\n",
      "298:\tlearn: 0.6140597\ttotal: 9.68s\tremaining: 22.7s\n",
      "299:\tlearn: 0.6138922\ttotal: 9.71s\tremaining: 22.7s\n",
      "300:\tlearn: 0.6135689\ttotal: 9.74s\tremaining: 22.6s\n",
      "301:\tlearn: 0.6134303\ttotal: 9.77s\tremaining: 22.6s\n",
      "302:\tlearn: 0.6132040\ttotal: 9.8s\tremaining: 22.5s\n",
      "303:\tlearn: 0.6131000\ttotal: 9.83s\tremaining: 22.5s\n",
      "304:\tlearn: 0.6128399\ttotal: 9.87s\tremaining: 22.5s\n",
      "305:\tlearn: 0.6126498\ttotal: 9.91s\tremaining: 22.5s\n",
      "306:\tlearn: 0.6123219\ttotal: 9.94s\tremaining: 22.4s\n",
      "307:\tlearn: 0.6120470\ttotal: 9.97s\tremaining: 22.4s\n",
      "308:\tlearn: 0.6119249\ttotal: 10s\tremaining: 22.4s\n",
      "309:\tlearn: 0.6117089\ttotal: 10s\tremaining: 22.3s\n",
      "310:\tlearn: 0.6115375\ttotal: 10.1s\tremaining: 22.3s\n",
      "311:\tlearn: 0.6113264\ttotal: 10.1s\tremaining: 22.3s\n",
      "312:\tlearn: 0.6110851\ttotal: 10.2s\tremaining: 22.3s\n",
      "313:\tlearn: 0.6110085\ttotal: 10.2s\tremaining: 22.2s\n",
      "314:\tlearn: 0.6107643\ttotal: 10.2s\tremaining: 22.2s\n",
      "315:\tlearn: 0.6104785\ttotal: 10.2s\tremaining: 22.2s\n",
      "316:\tlearn: 0.6103189\ttotal: 10.3s\tremaining: 22.1s\n",
      "317:\tlearn: 0.6101700\ttotal: 10.3s\tremaining: 22.1s\n",
      "318:\tlearn: 0.6100410\ttotal: 10.3s\tremaining: 22.1s\n",
      "319:\tlearn: 0.6099224\ttotal: 10.4s\tremaining: 22s\n"
     ]
    },
    {
     "name": "stdout",
     "output_type": "stream",
     "text": [
      "320:\tlearn: 0.6096168\ttotal: 10.4s\tremaining: 22s\n",
      "321:\tlearn: 0.6095057\ttotal: 10.4s\tremaining: 22s\n",
      "322:\tlearn: 0.6092907\ttotal: 10.5s\tremaining: 21.9s\n",
      "323:\tlearn: 0.6090118\ttotal: 10.5s\tremaining: 21.9s\n",
      "324:\tlearn: 0.6087871\ttotal: 10.5s\tremaining: 21.9s\n",
      "325:\tlearn: 0.6085289\ttotal: 10.6s\tremaining: 21.9s\n",
      "326:\tlearn: 0.6083826\ttotal: 10.6s\tremaining: 21.9s\n",
      "327:\tlearn: 0.6082761\ttotal: 10.7s\tremaining: 21.8s\n",
      "328:\tlearn: 0.6081140\ttotal: 10.7s\tremaining: 21.8s\n",
      "329:\tlearn: 0.6078434\ttotal: 10.7s\tremaining: 21.8s\n",
      "330:\tlearn: 0.6076868\ttotal: 10.8s\tremaining: 21.7s\n",
      "331:\tlearn: 0.6075767\ttotal: 10.8s\tremaining: 21.7s\n",
      "332:\tlearn: 0.6073507\ttotal: 10.8s\tremaining: 21.7s\n",
      "333:\tlearn: 0.6071793\ttotal: 10.8s\tremaining: 21.6s\n",
      "334:\tlearn: 0.6070363\ttotal: 10.9s\tremaining: 21.6s\n",
      "335:\tlearn: 0.6068311\ttotal: 10.9s\tremaining: 21.5s\n",
      "336:\tlearn: 0.6066833\ttotal: 10.9s\tremaining: 21.5s\n",
      "337:\tlearn: 0.6064558\ttotal: 11s\tremaining: 21.5s\n",
      "338:\tlearn: 0.6063160\ttotal: 11s\tremaining: 21.4s\n",
      "339:\tlearn: 0.6061644\ttotal: 11s\tremaining: 21.4s\n",
      "340:\tlearn: 0.6059204\ttotal: 11s\tremaining: 21.3s\n",
      "341:\tlearn: 0.6057872\ttotal: 11.1s\tremaining: 21.3s\n",
      "342:\tlearn: 0.6055592\ttotal: 11.1s\tremaining: 21.2s\n",
      "343:\tlearn: 0.6054466\ttotal: 11.1s\tremaining: 21.2s\n",
      "344:\tlearn: 0.6052511\ttotal: 11.1s\tremaining: 21.1s\n",
      "345:\tlearn: 0.6052003\ttotal: 11.2s\tremaining: 21.1s\n",
      "346:\tlearn: 0.6050306\ttotal: 11.2s\tremaining: 21s\n",
      "347:\tlearn: 0.6049016\ttotal: 11.2s\tremaining: 21s\n",
      "348:\tlearn: 0.6047664\ttotal: 11.2s\tremaining: 21s\n",
      "349:\tlearn: 0.6046633\ttotal: 11.3s\tremaining: 20.9s\n",
      "350:\tlearn: 0.6044733\ttotal: 11.3s\tremaining: 20.9s\n",
      "351:\tlearn: 0.6042462\ttotal: 11.3s\tremaining: 20.9s\n",
      "352:\tlearn: 0.6040605\ttotal: 11.4s\tremaining: 20.8s\n",
      "353:\tlearn: 0.6039655\ttotal: 11.4s\tremaining: 20.8s\n",
      "354:\tlearn: 0.6037266\ttotal: 11.4s\tremaining: 20.7s\n",
      "355:\tlearn: 0.6034672\ttotal: 11.4s\tremaining: 20.7s\n",
      "356:\tlearn: 0.6033166\ttotal: 11.5s\tremaining: 20.7s\n",
      "357:\tlearn: 0.6032282\ttotal: 11.5s\tremaining: 20.7s\n",
      "358:\tlearn: 0.6030307\ttotal: 11.6s\tremaining: 20.7s\n",
      "359:\tlearn: 0.6028524\ttotal: 11.6s\tremaining: 20.6s\n",
      "360:\tlearn: 0.6025948\ttotal: 11.6s\tremaining: 20.6s\n",
      "361:\tlearn: 0.6024650\ttotal: 11.6s\tremaining: 20.5s\n",
      "362:\tlearn: 0.6022015\ttotal: 11.7s\tremaining: 20.5s\n",
      "363:\tlearn: 0.6020945\ttotal: 11.7s\tremaining: 20.4s\n",
      "364:\tlearn: 0.6018372\ttotal: 11.7s\tremaining: 20.4s\n",
      "365:\tlearn: 0.6016671\ttotal: 11.8s\tremaining: 20.4s\n",
      "366:\tlearn: 0.6012349\ttotal: 11.8s\tremaining: 20.3s\n",
      "367:\tlearn: 0.6010708\ttotal: 11.8s\tremaining: 20.3s\n",
      "368:\tlearn: 0.6009349\ttotal: 11.8s\tremaining: 20.2s\n",
      "369:\tlearn: 0.6008478\ttotal: 11.9s\tremaining: 20.2s\n",
      "370:\tlearn: 0.6006792\ttotal: 11.9s\tremaining: 20.1s\n",
      "371:\tlearn: 0.6004705\ttotal: 11.9s\tremaining: 20.1s\n",
      "372:\tlearn: 0.6003525\ttotal: 11.9s\tremaining: 20.1s\n",
      "373:\tlearn: 0.6001361\ttotal: 12s\tremaining: 20s\n",
      "374:\tlearn: 0.5999733\ttotal: 12s\tremaining: 20s\n",
      "375:\tlearn: 0.5997118\ttotal: 12s\tremaining: 19.9s\n",
      "376:\tlearn: 0.5994582\ttotal: 12s\tremaining: 19.9s\n",
      "377:\tlearn: 0.5993692\ttotal: 12s\tremaining: 19.8s\n",
      "378:\tlearn: 0.5992048\ttotal: 12.1s\tremaining: 19.8s\n",
      "379:\tlearn: 0.5990808\ttotal: 12.1s\tremaining: 19.7s\n",
      "380:\tlearn: 0.5989672\ttotal: 12.1s\tremaining: 19.7s\n",
      "381:\tlearn: 0.5987879\ttotal: 12.1s\tremaining: 19.7s\n",
      "382:\tlearn: 0.5984968\ttotal: 12.2s\tremaining: 19.6s\n",
      "383:\tlearn: 0.5983534\ttotal: 12.2s\tremaining: 19.6s\n",
      "384:\tlearn: 0.5981578\ttotal: 12.2s\tremaining: 19.5s\n",
      "385:\tlearn: 0.5980064\ttotal: 12.2s\tremaining: 19.5s\n",
      "386:\tlearn: 0.5978272\ttotal: 12.3s\tremaining: 19.4s\n",
      "387:\tlearn: 0.5977028\ttotal: 12.3s\tremaining: 19.4s\n",
      "388:\tlearn: 0.5975823\ttotal: 12.3s\tremaining: 19.4s\n",
      "389:\tlearn: 0.5973614\ttotal: 12.4s\tremaining: 19.3s\n",
      "390:\tlearn: 0.5972753\ttotal: 12.4s\tremaining: 19.3s\n",
      "391:\tlearn: 0.5971830\ttotal: 12.4s\tremaining: 19.2s\n",
      "392:\tlearn: 0.5970137\ttotal: 12.4s\tremaining: 19.2s\n",
      "393:\tlearn: 0.5968687\ttotal: 12.5s\tremaining: 19.2s\n",
      "394:\tlearn: 0.5967747\ttotal: 12.5s\tremaining: 19.1s\n",
      "395:\tlearn: 0.5966136\ttotal: 12.5s\tremaining: 19.1s\n",
      "396:\tlearn: 0.5964727\ttotal: 12.6s\tremaining: 19.1s\n",
      "397:\tlearn: 0.5962214\ttotal: 12.6s\tremaining: 19s\n",
      "398:\tlearn: 0.5959534\ttotal: 12.6s\tremaining: 19s\n",
      "399:\tlearn: 0.5957657\ttotal: 12.6s\tremaining: 19s\n",
      "400:\tlearn: 0.5956859\ttotal: 12.7s\tremaining: 18.9s\n",
      "401:\tlearn: 0.5954899\ttotal: 12.7s\tremaining: 18.9s\n",
      "402:\tlearn: 0.5952226\ttotal: 12.7s\tremaining: 18.8s\n",
      "403:\tlearn: 0.5950663\ttotal: 12.8s\tremaining: 18.8s\n",
      "404:\tlearn: 0.5948290\ttotal: 12.8s\tremaining: 18.8s\n",
      "405:\tlearn: 0.5946596\ttotal: 12.8s\tremaining: 18.8s\n",
      "406:\tlearn: 0.5944323\ttotal: 12.8s\tremaining: 18.7s\n",
      "407:\tlearn: 0.5943137\ttotal: 12.9s\tremaining: 18.7s\n",
      "408:\tlearn: 0.5941409\ttotal: 12.9s\tremaining: 18.6s\n",
      "409:\tlearn: 0.5939888\ttotal: 12.9s\tremaining: 18.6s\n",
      "410:\tlearn: 0.5939299\ttotal: 13s\tremaining: 18.6s\n",
      "411:\tlearn: 0.5936703\ttotal: 13s\tremaining: 18.5s\n",
      "412:\tlearn: 0.5935620\ttotal: 13s\tremaining: 18.5s\n",
      "413:\tlearn: 0.5934604\ttotal: 13s\tremaining: 18.4s\n",
      "414:\tlearn: 0.5934056\ttotal: 13.1s\tremaining: 18.4s\n",
      "415:\tlearn: 0.5932562\ttotal: 13.1s\tremaining: 18.4s\n",
      "416:\tlearn: 0.5930197\ttotal: 13.1s\tremaining: 18.3s\n",
      "417:\tlearn: 0.5928041\ttotal: 13.1s\tremaining: 18.3s\n",
      "418:\tlearn: 0.5925963\ttotal: 13.2s\tremaining: 18.3s\n",
      "419:\tlearn: 0.5925061\ttotal: 13.2s\tremaining: 18.2s\n",
      "420:\tlearn: 0.5923138\ttotal: 13.2s\tremaining: 18.2s\n",
      "421:\tlearn: 0.5921867\ttotal: 13.3s\tremaining: 18.2s\n",
      "422:\tlearn: 0.5920109\ttotal: 13.3s\tremaining: 18.1s\n",
      "423:\tlearn: 0.5917544\ttotal: 13.3s\tremaining: 18.1s\n",
      "424:\tlearn: 0.5915075\ttotal: 13.3s\tremaining: 18s\n",
      "425:\tlearn: 0.5913628\ttotal: 13.4s\tremaining: 18s\n",
      "426:\tlearn: 0.5911549\ttotal: 13.4s\tremaining: 18s\n",
      "427:\tlearn: 0.5909384\ttotal: 13.4s\tremaining: 18s\n",
      "428:\tlearn: 0.5908392\ttotal: 13.5s\tremaining: 17.9s\n",
      "429:\tlearn: 0.5906310\ttotal: 13.5s\tremaining: 17.9s\n",
      "430:\tlearn: 0.5905304\ttotal: 13.5s\tremaining: 17.8s\n",
      "431:\tlearn: 0.5902489\ttotal: 13.5s\tremaining: 17.8s\n",
      "432:\tlearn: 0.5901533\ttotal: 13.6s\tremaining: 17.8s\n",
      "433:\tlearn: 0.5900578\ttotal: 13.6s\tremaining: 17.7s\n",
      "434:\tlearn: 0.5898852\ttotal: 13.6s\tremaining: 17.7s\n",
      "435:\tlearn: 0.5897037\ttotal: 13.6s\tremaining: 17.7s\n",
      "436:\tlearn: 0.5895423\ttotal: 13.7s\tremaining: 17.6s\n",
      "437:\tlearn: 0.5894169\ttotal: 13.7s\tremaining: 17.6s\n",
      "438:\tlearn: 0.5891951\ttotal: 13.7s\tremaining: 17.5s\n",
      "439:\tlearn: 0.5891345\ttotal: 13.7s\tremaining: 17.5s\n",
      "440:\tlearn: 0.5890264\ttotal: 13.8s\tremaining: 17.5s\n",
      "441:\tlearn: 0.5888828\ttotal: 13.8s\tremaining: 17.4s\n",
      "442:\tlearn: 0.5887324\ttotal: 13.8s\tremaining: 17.4s\n",
      "443:\tlearn: 0.5886183\ttotal: 13.9s\tremaining: 17.3s\n",
      "444:\tlearn: 0.5885353\ttotal: 13.9s\tremaining: 17.3s\n",
      "445:\tlearn: 0.5883964\ttotal: 13.9s\tremaining: 17.3s\n",
      "446:\tlearn: 0.5881555\ttotal: 13.9s\tremaining: 17.2s\n",
      "447:\tlearn: 0.5880154\ttotal: 13.9s\tremaining: 17.2s\n",
      "448:\tlearn: 0.5877470\ttotal: 14s\tremaining: 17.1s\n",
      "449:\tlearn: 0.5876560\ttotal: 14s\tremaining: 17.1s\n",
      "450:\tlearn: 0.5875323\ttotal: 14s\tremaining: 17.1s\n",
      "451:\tlearn: 0.5873565\ttotal: 14.1s\tremaining: 17s\n",
      "452:\tlearn: 0.5872375\ttotal: 14.1s\tremaining: 17s\n",
      "453:\tlearn: 0.5871859\ttotal: 14.1s\tremaining: 17s\n",
      "454:\tlearn: 0.5870968\ttotal: 14.1s\tremaining: 16.9s\n",
      "455:\tlearn: 0.5867550\ttotal: 14.2s\tremaining: 16.9s\n",
      "456:\tlearn: 0.5865660\ttotal: 14.2s\tremaining: 16.9s\n",
      "457:\tlearn: 0.5862847\ttotal: 14.2s\tremaining: 16.8s\n",
      "458:\tlearn: 0.5861844\ttotal: 14.3s\tremaining: 16.8s\n",
      "459:\tlearn: 0.5859883\ttotal: 14.3s\tremaining: 16.8s\n",
      "460:\tlearn: 0.5859198\ttotal: 14.3s\tremaining: 16.7s\n",
      "461:\tlearn: 0.5858370\ttotal: 14.3s\tremaining: 16.7s\n",
      "462:\tlearn: 0.5856624\ttotal: 14.4s\tremaining: 16.6s\n",
      "463:\tlearn: 0.5854731\ttotal: 14.4s\tremaining: 16.6s\n",
      "464:\tlearn: 0.5852337\ttotal: 14.4s\tremaining: 16.6s\n",
      "465:\tlearn: 0.5850832\ttotal: 14.5s\tremaining: 16.6s\n",
      "466:\tlearn: 0.5849434\ttotal: 14.5s\tremaining: 16.6s\n",
      "467:\tlearn: 0.5848563\ttotal: 14.5s\tremaining: 16.5s\n",
      "468:\tlearn: 0.5846738\ttotal: 14.6s\tremaining: 16.5s\n",
      "469:\tlearn: 0.5845278\ttotal: 14.6s\tremaining: 16.5s\n",
      "470:\tlearn: 0.5843748\ttotal: 14.6s\tremaining: 16.4s\n",
      "471:\tlearn: 0.5841587\ttotal: 14.7s\tremaining: 16.4s\n",
      "472:\tlearn: 0.5839299\ttotal: 14.7s\tremaining: 16.4s\n",
      "473:\tlearn: 0.5838286\ttotal: 14.7s\tremaining: 16.4s\n",
      "474:\tlearn: 0.5836337\ttotal: 14.8s\tremaining: 16.3s\n",
      "475:\tlearn: 0.5835616\ttotal: 14.8s\tremaining: 16.3s\n",
      "476:\tlearn: 0.5834314\ttotal: 14.8s\tremaining: 16.3s\n",
      "477:\tlearn: 0.5833076\ttotal: 14.9s\tremaining: 16.2s\n",
      "478:\tlearn: 0.5831578\ttotal: 14.9s\tremaining: 16.2s\n"
     ]
    },
    {
     "name": "stdout",
     "output_type": "stream",
     "text": [
      "479:\tlearn: 0.5829812\ttotal: 14.9s\tremaining: 16.1s\n",
      "480:\tlearn: 0.5825201\ttotal: 14.9s\tremaining: 16.1s\n",
      "481:\tlearn: 0.5822171\ttotal: 15s\tremaining: 16.1s\n",
      "482:\tlearn: 0.5820840\ttotal: 15s\tremaining: 16.1s\n",
      "483:\tlearn: 0.5818030\ttotal: 15s\tremaining: 16s\n",
      "484:\tlearn: 0.5816707\ttotal: 15.1s\tremaining: 16s\n",
      "485:\tlearn: 0.5814914\ttotal: 15.1s\tremaining: 16s\n",
      "486:\tlearn: 0.5813960\ttotal: 15.1s\tremaining: 15.9s\n",
      "487:\tlearn: 0.5812820\ttotal: 15.2s\tremaining: 15.9s\n",
      "488:\tlearn: 0.5811831\ttotal: 15.2s\tremaining: 15.9s\n",
      "489:\tlearn: 0.5810212\ttotal: 15.2s\tremaining: 15.8s\n",
      "490:\tlearn: 0.5808427\ttotal: 15.3s\tremaining: 15.8s\n",
      "491:\tlearn: 0.5807388\ttotal: 15.3s\tremaining: 15.8s\n",
      "492:\tlearn: 0.5805484\ttotal: 15.3s\tremaining: 15.7s\n",
      "493:\tlearn: 0.5804407\ttotal: 15.3s\tremaining: 15.7s\n",
      "494:\tlearn: 0.5802370\ttotal: 15.4s\tremaining: 15.7s\n",
      "495:\tlearn: 0.5801040\ttotal: 15.4s\tremaining: 15.7s\n",
      "496:\tlearn: 0.5799943\ttotal: 15.4s\tremaining: 15.6s\n",
      "497:\tlearn: 0.5799043\ttotal: 15.5s\tremaining: 15.6s\n",
      "498:\tlearn: 0.5797226\ttotal: 15.5s\tremaining: 15.6s\n",
      "499:\tlearn: 0.5795577\ttotal: 15.6s\tremaining: 15.6s\n",
      "500:\tlearn: 0.5794398\ttotal: 15.6s\tremaining: 15.5s\n",
      "501:\tlearn: 0.5793132\ttotal: 15.6s\tremaining: 15.5s\n",
      "502:\tlearn: 0.5791515\ttotal: 15.6s\tremaining: 15.5s\n",
      "503:\tlearn: 0.5789562\ttotal: 15.7s\tremaining: 15.4s\n",
      "504:\tlearn: 0.5788179\ttotal: 15.7s\tremaining: 15.4s\n",
      "505:\tlearn: 0.5785713\ttotal: 15.7s\tremaining: 15.4s\n",
      "506:\tlearn: 0.5784804\ttotal: 15.8s\tremaining: 15.3s\n",
      "507:\tlearn: 0.5782781\ttotal: 15.8s\tremaining: 15.3s\n",
      "508:\tlearn: 0.5780980\ttotal: 15.8s\tremaining: 15.3s\n",
      "509:\tlearn: 0.5780021\ttotal: 15.9s\tremaining: 15.2s\n",
      "510:\tlearn: 0.5778662\ttotal: 15.9s\tremaining: 15.2s\n",
      "511:\tlearn: 0.5775528\ttotal: 15.9s\tremaining: 15.2s\n",
      "512:\tlearn: 0.5772734\ttotal: 16s\tremaining: 15.2s\n",
      "513:\tlearn: 0.5771176\ttotal: 16s\tremaining: 15.1s\n",
      "514:\tlearn: 0.5770004\ttotal: 16s\tremaining: 15.1s\n",
      "515:\tlearn: 0.5766699\ttotal: 16.1s\tremaining: 15.1s\n",
      "516:\tlearn: 0.5766136\ttotal: 16.1s\tremaining: 15s\n",
      "517:\tlearn: 0.5764122\ttotal: 16.1s\tremaining: 15s\n",
      "518:\tlearn: 0.5762417\ttotal: 16.2s\tremaining: 15s\n",
      "519:\tlearn: 0.5761110\ttotal: 16.2s\tremaining: 14.9s\n",
      "520:\tlearn: 0.5760398\ttotal: 16.2s\tremaining: 14.9s\n",
      "521:\tlearn: 0.5758551\ttotal: 16.3s\tremaining: 14.9s\n",
      "522:\tlearn: 0.5755766\ttotal: 16.3s\tremaining: 14.9s\n",
      "523:\tlearn: 0.5754566\ttotal: 16.3s\tremaining: 14.8s\n",
      "524:\tlearn: 0.5753323\ttotal: 16.3s\tremaining: 14.8s\n",
      "525:\tlearn: 0.5752275\ttotal: 16.4s\tremaining: 14.8s\n",
      "526:\tlearn: 0.5751426\ttotal: 16.4s\tremaining: 14.7s\n",
      "527:\tlearn: 0.5749628\ttotal: 16.5s\tremaining: 14.7s\n",
      "528:\tlearn: 0.5748267\ttotal: 16.5s\tremaining: 14.7s\n",
      "529:\tlearn: 0.5746849\ttotal: 16.5s\tremaining: 14.7s\n",
      "530:\tlearn: 0.5745753\ttotal: 16.6s\tremaining: 14.6s\n",
      "531:\tlearn: 0.5744181\ttotal: 16.6s\tremaining: 14.6s\n",
      "532:\tlearn: 0.5742008\ttotal: 16.6s\tremaining: 14.6s\n",
      "533:\tlearn: 0.5740517\ttotal: 16.6s\tremaining: 14.5s\n",
      "534:\tlearn: 0.5738754\ttotal: 16.7s\tremaining: 14.5s\n",
      "535:\tlearn: 0.5736442\ttotal: 16.7s\tremaining: 14.5s\n",
      "536:\tlearn: 0.5734931\ttotal: 16.7s\tremaining: 14.4s\n",
      "537:\tlearn: 0.5734133\ttotal: 16.8s\tremaining: 14.4s\n",
      "538:\tlearn: 0.5731638\ttotal: 16.8s\tremaining: 14.4s\n",
      "539:\tlearn: 0.5729993\ttotal: 16.8s\tremaining: 14.3s\n",
      "540:\tlearn: 0.5728861\ttotal: 16.9s\tremaining: 14.3s\n",
      "541:\tlearn: 0.5728288\ttotal: 16.9s\tremaining: 14.3s\n",
      "542:\tlearn: 0.5727156\ttotal: 16.9s\tremaining: 14.2s\n",
      "543:\tlearn: 0.5726493\ttotal: 16.9s\tremaining: 14.2s\n",
      "544:\tlearn: 0.5724963\ttotal: 17s\tremaining: 14.2s\n",
      "545:\tlearn: 0.5723921\ttotal: 17s\tremaining: 14.1s\n",
      "546:\tlearn: 0.5722147\ttotal: 17s\tremaining: 14.1s\n",
      "547:\tlearn: 0.5720716\ttotal: 17s\tremaining: 14.1s\n",
      "548:\tlearn: 0.5720147\ttotal: 17.1s\tremaining: 14s\n",
      "549:\tlearn: 0.5718216\ttotal: 17.1s\tremaining: 14s\n",
      "550:\tlearn: 0.5716530\ttotal: 17.1s\tremaining: 14s\n",
      "551:\tlearn: 0.5714091\ttotal: 17.2s\tremaining: 13.9s\n",
      "552:\tlearn: 0.5712480\ttotal: 17.2s\tremaining: 13.9s\n",
      "553:\tlearn: 0.5711673\ttotal: 17.2s\tremaining: 13.8s\n",
      "554:\tlearn: 0.5709741\ttotal: 17.2s\tremaining: 13.8s\n",
      "555:\tlearn: 0.5708196\ttotal: 17.3s\tremaining: 13.8s\n",
      "556:\tlearn: 0.5707414\ttotal: 17.3s\tremaining: 13.8s\n",
      "557:\tlearn: 0.5706113\ttotal: 17.3s\tremaining: 13.7s\n",
      "558:\tlearn: 0.5705540\ttotal: 17.3s\tremaining: 13.7s\n",
      "559:\tlearn: 0.5704305\ttotal: 17.4s\tremaining: 13.6s\n",
      "560:\tlearn: 0.5702714\ttotal: 17.4s\tremaining: 13.6s\n",
      "561:\tlearn: 0.5701600\ttotal: 17.4s\tremaining: 13.6s\n",
      "562:\tlearn: 0.5701183\ttotal: 17.4s\tremaining: 13.5s\n",
      "563:\tlearn: 0.5699276\ttotal: 17.5s\tremaining: 13.5s\n",
      "564:\tlearn: 0.5697465\ttotal: 17.5s\tremaining: 13.5s\n",
      "565:\tlearn: 0.5696107\ttotal: 17.5s\tremaining: 13.4s\n",
      "566:\tlearn: 0.5693417\ttotal: 17.6s\tremaining: 13.4s\n",
      "567:\tlearn: 0.5692718\ttotal: 17.6s\tremaining: 13.4s\n",
      "568:\tlearn: 0.5690541\ttotal: 17.6s\tremaining: 13.3s\n",
      "569:\tlearn: 0.5688355\ttotal: 17.6s\tremaining: 13.3s\n",
      "570:\tlearn: 0.5686424\ttotal: 17.7s\tremaining: 13.3s\n",
      "571:\tlearn: 0.5684815\ttotal: 17.7s\tremaining: 13.2s\n",
      "572:\tlearn: 0.5683825\ttotal: 17.7s\tremaining: 13.2s\n",
      "573:\tlearn: 0.5682684\ttotal: 17.8s\tremaining: 13.2s\n",
      "574:\tlearn: 0.5681140\ttotal: 17.8s\tremaining: 13.1s\n",
      "575:\tlearn: 0.5679996\ttotal: 17.8s\tremaining: 13.1s\n",
      "576:\tlearn: 0.5679280\ttotal: 17.8s\tremaining: 13.1s\n",
      "577:\tlearn: 0.5678167\ttotal: 17.8s\tremaining: 13s\n",
      "578:\tlearn: 0.5676745\ttotal: 17.9s\tremaining: 13s\n",
      "579:\tlearn: 0.5676019\ttotal: 17.9s\tremaining: 13s\n",
      "580:\tlearn: 0.5675222\ttotal: 17.9s\tremaining: 12.9s\n",
      "581:\tlearn: 0.5672865\ttotal: 18s\tremaining: 12.9s\n",
      "582:\tlearn: 0.5671954\ttotal: 18s\tremaining: 12.9s\n",
      "583:\tlearn: 0.5671526\ttotal: 18s\tremaining: 12.8s\n",
      "584:\tlearn: 0.5670444\ttotal: 18s\tremaining: 12.8s\n",
      "585:\tlearn: 0.5667651\ttotal: 18.1s\tremaining: 12.8s\n",
      "586:\tlearn: 0.5666590\ttotal: 18.1s\tremaining: 12.7s\n",
      "587:\tlearn: 0.5665184\ttotal: 18.1s\tremaining: 12.7s\n",
      "588:\tlearn: 0.5663650\ttotal: 18.1s\tremaining: 12.7s\n",
      "589:\tlearn: 0.5661282\ttotal: 18.2s\tremaining: 12.6s\n",
      "590:\tlearn: 0.5660521\ttotal: 18.2s\tremaining: 12.6s\n",
      "591:\tlearn: 0.5659217\ttotal: 18.2s\tremaining: 12.6s\n",
      "592:\tlearn: 0.5658164\ttotal: 18.2s\tremaining: 12.5s\n",
      "593:\tlearn: 0.5656796\ttotal: 18.3s\tremaining: 12.5s\n",
      "594:\tlearn: 0.5655011\ttotal: 18.3s\tremaining: 12.5s\n",
      "595:\tlearn: 0.5654284\ttotal: 18.3s\tremaining: 12.4s\n",
      "596:\tlearn: 0.5652471\ttotal: 18.4s\tremaining: 12.4s\n",
      "597:\tlearn: 0.5650832\ttotal: 18.4s\tremaining: 12.4s\n",
      "598:\tlearn: 0.5649129\ttotal: 18.4s\tremaining: 12.3s\n",
      "599:\tlearn: 0.5647770\ttotal: 18.5s\tremaining: 12.3s\n",
      "600:\tlearn: 0.5647427\ttotal: 18.5s\tremaining: 12.3s\n",
      "601:\tlearn: 0.5646181\ttotal: 18.5s\tremaining: 12.3s\n",
      "602:\tlearn: 0.5644566\ttotal: 18.6s\tremaining: 12.2s\n",
      "603:\tlearn: 0.5642079\ttotal: 18.6s\tremaining: 12.2s\n",
      "604:\tlearn: 0.5640202\ttotal: 18.6s\tremaining: 12.2s\n",
      "605:\tlearn: 0.5638478\ttotal: 18.7s\tremaining: 12.1s\n",
      "606:\tlearn: 0.5637651\ttotal: 18.7s\tremaining: 12.1s\n",
      "607:\tlearn: 0.5636342\ttotal: 18.7s\tremaining: 12.1s\n",
      "608:\tlearn: 0.5635162\ttotal: 18.8s\tremaining: 12s\n",
      "609:\tlearn: 0.5634275\ttotal: 18.8s\tremaining: 12s\n",
      "610:\tlearn: 0.5632771\ttotal: 18.8s\tremaining: 12s\n",
      "611:\tlearn: 0.5631597\ttotal: 18.8s\tremaining: 11.9s\n",
      "612:\tlearn: 0.5629104\ttotal: 18.9s\tremaining: 11.9s\n",
      "613:\tlearn: 0.5626480\ttotal: 18.9s\tremaining: 11.9s\n",
      "614:\tlearn: 0.5624525\ttotal: 18.9s\tremaining: 11.9s\n",
      "615:\tlearn: 0.5622958\ttotal: 19s\tremaining: 11.8s\n",
      "616:\tlearn: 0.5621604\ttotal: 19s\tremaining: 11.8s\n",
      "617:\tlearn: 0.5619971\ttotal: 19s\tremaining: 11.8s\n",
      "618:\tlearn: 0.5618257\ttotal: 19.1s\tremaining: 11.7s\n",
      "619:\tlearn: 0.5616904\ttotal: 19.1s\tremaining: 11.7s\n",
      "620:\tlearn: 0.5615827\ttotal: 19.1s\tremaining: 11.7s\n",
      "621:\tlearn: 0.5614626\ttotal: 19.1s\tremaining: 11.6s\n",
      "622:\tlearn: 0.5612560\ttotal: 19.2s\tremaining: 11.6s\n",
      "623:\tlearn: 0.5611076\ttotal: 19.2s\tremaining: 11.6s\n",
      "624:\tlearn: 0.5610302\ttotal: 19.2s\tremaining: 11.5s\n",
      "625:\tlearn: 0.5607845\ttotal: 19.2s\tremaining: 11.5s\n",
      "626:\tlearn: 0.5606874\ttotal: 19.3s\tremaining: 11.5s\n",
      "627:\tlearn: 0.5605072\ttotal: 19.3s\tremaining: 11.4s\n",
      "628:\tlearn: 0.5603154\ttotal: 19.3s\tremaining: 11.4s\n",
      "629:\tlearn: 0.5602019\ttotal: 19.4s\tremaining: 11.4s\n",
      "630:\tlearn: 0.5599513\ttotal: 19.4s\tremaining: 11.3s\n",
      "631:\tlearn: 0.5598815\ttotal: 19.4s\tremaining: 11.3s\n",
      "632:\tlearn: 0.5597175\ttotal: 19.4s\tremaining: 11.3s\n",
      "633:\tlearn: 0.5595947\ttotal: 19.5s\tremaining: 11.2s\n",
      "634:\tlearn: 0.5594673\ttotal: 19.5s\tremaining: 11.2s\n",
      "635:\tlearn: 0.5593645\ttotal: 19.5s\tremaining: 11.2s\n",
      "636:\tlearn: 0.5592104\ttotal: 19.6s\tremaining: 11.1s\n",
      "637:\tlearn: 0.5590996\ttotal: 19.6s\tremaining: 11.1s\n",
      "638:\tlearn: 0.5589252\ttotal: 19.6s\tremaining: 11.1s\n",
      "639:\tlearn: 0.5587873\ttotal: 19.6s\tremaining: 11.1s\n",
      "640:\tlearn: 0.5586855\ttotal: 19.7s\tremaining: 11s\n",
      "641:\tlearn: 0.5585948\ttotal: 19.7s\tremaining: 11s\n",
      "642:\tlearn: 0.5584842\ttotal: 19.7s\tremaining: 10.9s\n",
      "643:\tlearn: 0.5584148\ttotal: 19.7s\tremaining: 10.9s\n",
      "644:\tlearn: 0.5583351\ttotal: 19.8s\tremaining: 10.9s\n"
     ]
    },
    {
     "name": "stdout",
     "output_type": "stream",
     "text": [
      "645:\tlearn: 0.5582066\ttotal: 19.8s\tremaining: 10.8s\n",
      "646:\tlearn: 0.5579898\ttotal: 19.8s\tremaining: 10.8s\n",
      "647:\tlearn: 0.5578596\ttotal: 19.9s\tremaining: 10.8s\n",
      "648:\tlearn: 0.5577878\ttotal: 19.9s\tremaining: 10.7s\n",
      "649:\tlearn: 0.5577352\ttotal: 19.9s\tremaining: 10.7s\n",
      "650:\tlearn: 0.5575047\ttotal: 19.9s\tremaining: 10.7s\n",
      "651:\tlearn: 0.5573472\ttotal: 19.9s\tremaining: 10.6s\n",
      "652:\tlearn: 0.5571996\ttotal: 20s\tremaining: 10.6s\n",
      "653:\tlearn: 0.5570294\ttotal: 20s\tremaining: 10.6s\n",
      "654:\tlearn: 0.5569144\ttotal: 20s\tremaining: 10.6s\n",
      "655:\tlearn: 0.5567742\ttotal: 20.1s\tremaining: 10.5s\n",
      "656:\tlearn: 0.5566416\ttotal: 20.1s\tremaining: 10.5s\n",
      "657:\tlearn: 0.5565277\ttotal: 20.1s\tremaining: 10.5s\n",
      "658:\tlearn: 0.5564493\ttotal: 20.1s\tremaining: 10.4s\n",
      "659:\tlearn: 0.5563368\ttotal: 20.2s\tremaining: 10.4s\n",
      "660:\tlearn: 0.5561937\ttotal: 20.2s\tremaining: 10.4s\n",
      "661:\tlearn: 0.5561099\ttotal: 20.2s\tremaining: 10.3s\n",
      "662:\tlearn: 0.5559377\ttotal: 20.3s\tremaining: 10.3s\n",
      "663:\tlearn: 0.5558381\ttotal: 20.3s\tremaining: 10.3s\n",
      "664:\tlearn: 0.5557296\ttotal: 20.3s\tremaining: 10.2s\n",
      "665:\tlearn: 0.5555783\ttotal: 20.3s\tremaining: 10.2s\n",
      "666:\tlearn: 0.5553103\ttotal: 20.4s\tremaining: 10.2s\n",
      "667:\tlearn: 0.5552216\ttotal: 20.4s\tremaining: 10.1s\n",
      "668:\tlearn: 0.5551230\ttotal: 20.4s\tremaining: 10.1s\n",
      "669:\tlearn: 0.5550253\ttotal: 20.4s\tremaining: 10.1s\n",
      "670:\tlearn: 0.5548499\ttotal: 20.5s\tremaining: 10s\n",
      "671:\tlearn: 0.5546992\ttotal: 20.5s\tremaining: 10s\n",
      "672:\tlearn: 0.5545992\ttotal: 20.5s\tremaining: 9.97s\n",
      "673:\tlearn: 0.5545016\ttotal: 20.5s\tremaining: 9.94s\n",
      "674:\tlearn: 0.5543966\ttotal: 20.6s\tremaining: 9.91s\n",
      "675:\tlearn: 0.5542325\ttotal: 20.6s\tremaining: 9.88s\n",
      "676:\tlearn: 0.5540580\ttotal: 20.6s\tremaining: 9.84s\n",
      "677:\tlearn: 0.5538676\ttotal: 20.7s\tremaining: 9.82s\n",
      "678:\tlearn: 0.5537424\ttotal: 20.7s\tremaining: 9.79s\n",
      "679:\tlearn: 0.5535956\ttotal: 20.7s\tremaining: 9.75s\n",
      "680:\tlearn: 0.5533231\ttotal: 20.8s\tremaining: 9.72s\n",
      "681:\tlearn: 0.5531653\ttotal: 20.8s\tremaining: 9.69s\n",
      "682:\tlearn: 0.5529936\ttotal: 20.8s\tremaining: 9.66s\n",
      "683:\tlearn: 0.5528982\ttotal: 20.8s\tremaining: 9.62s\n",
      "684:\tlearn: 0.5527776\ttotal: 20.9s\tremaining: 9.59s\n",
      "685:\tlearn: 0.5526214\ttotal: 20.9s\tremaining: 9.56s\n",
      "686:\tlearn: 0.5524782\ttotal: 20.9s\tremaining: 9.53s\n",
      "687:\tlearn: 0.5523889\ttotal: 20.9s\tremaining: 9.49s\n",
      "688:\tlearn: 0.5522906\ttotal: 21s\tremaining: 9.46s\n",
      "689:\tlearn: 0.5522371\ttotal: 21s\tremaining: 9.43s\n",
      "690:\tlearn: 0.5521799\ttotal: 21s\tremaining: 9.39s\n",
      "691:\tlearn: 0.5519848\ttotal: 21s\tremaining: 9.36s\n",
      "692:\tlearn: 0.5518440\ttotal: 21.1s\tremaining: 9.34s\n",
      "693:\tlearn: 0.5517365\ttotal: 21.1s\tremaining: 9.31s\n",
      "694:\tlearn: 0.5516239\ttotal: 21.1s\tremaining: 9.28s\n",
      "695:\tlearn: 0.5515620\ttotal: 21.2s\tremaining: 9.24s\n",
      "696:\tlearn: 0.5514242\ttotal: 21.2s\tremaining: 9.21s\n",
      "697:\tlearn: 0.5512475\ttotal: 21.2s\tremaining: 9.18s\n",
      "698:\tlearn: 0.5511348\ttotal: 21.2s\tremaining: 9.15s\n",
      "699:\tlearn: 0.5511027\ttotal: 21.3s\tremaining: 9.11s\n",
      "700:\tlearn: 0.5509345\ttotal: 21.3s\tremaining: 9.08s\n",
      "701:\tlearn: 0.5507180\ttotal: 21.3s\tremaining: 9.05s\n",
      "702:\tlearn: 0.5505892\ttotal: 21.3s\tremaining: 9.02s\n",
      "703:\tlearn: 0.5504845\ttotal: 21.4s\tremaining: 8.99s\n",
      "704:\tlearn: 0.5503711\ttotal: 21.4s\tremaining: 8.96s\n",
      "705:\tlearn: 0.5503341\ttotal: 21.4s\tremaining: 8.92s\n",
      "706:\tlearn: 0.5500930\ttotal: 21.5s\tremaining: 8.89s\n",
      "707:\tlearn: 0.5499941\ttotal: 21.5s\tremaining: 8.86s\n",
      "708:\tlearn: 0.5498835\ttotal: 21.5s\tremaining: 8.83s\n",
      "709:\tlearn: 0.5498283\ttotal: 21.5s\tremaining: 8.8s\n",
      "710:\tlearn: 0.5496467\ttotal: 21.6s\tremaining: 8.77s\n",
      "711:\tlearn: 0.5496005\ttotal: 21.6s\tremaining: 8.73s\n",
      "712:\tlearn: 0.5494047\ttotal: 21.6s\tremaining: 8.7s\n",
      "713:\tlearn: 0.5492830\ttotal: 21.6s\tremaining: 8.67s\n",
      "714:\tlearn: 0.5491130\ttotal: 21.7s\tremaining: 8.64s\n",
      "715:\tlearn: 0.5488779\ttotal: 21.7s\tremaining: 8.61s\n",
      "716:\tlearn: 0.5487740\ttotal: 21.7s\tremaining: 8.57s\n",
      "717:\tlearn: 0.5486927\ttotal: 21.8s\tremaining: 8.54s\n",
      "718:\tlearn: 0.5485380\ttotal: 21.8s\tremaining: 8.51s\n",
      "719:\tlearn: 0.5483686\ttotal: 21.8s\tremaining: 8.48s\n",
      "720:\tlearn: 0.5481995\ttotal: 21.8s\tremaining: 8.45s\n",
      "721:\tlearn: 0.5480581\ttotal: 21.9s\tremaining: 8.42s\n",
      "722:\tlearn: 0.5479391\ttotal: 21.9s\tremaining: 8.38s\n",
      "723:\tlearn: 0.5478191\ttotal: 21.9s\tremaining: 8.35s\n",
      "724:\tlearn: 0.5477076\ttotal: 21.9s\tremaining: 8.32s\n",
      "725:\tlearn: 0.5475315\ttotal: 22s\tremaining: 8.29s\n",
      "726:\tlearn: 0.5472565\ttotal: 22s\tremaining: 8.26s\n",
      "727:\tlearn: 0.5470943\ttotal: 22s\tremaining: 8.22s\n",
      "728:\tlearn: 0.5469502\ttotal: 22s\tremaining: 8.19s\n",
      "729:\tlearn: 0.5468470\ttotal: 22.1s\tremaining: 8.16s\n",
      "730:\tlearn: 0.5467508\ttotal: 22.1s\tremaining: 8.13s\n",
      "731:\tlearn: 0.5465593\ttotal: 22.1s\tremaining: 8.09s\n",
      "732:\tlearn: 0.5464575\ttotal: 22.1s\tremaining: 8.06s\n",
      "733:\tlearn: 0.5463696\ttotal: 22.2s\tremaining: 8.03s\n",
      "734:\tlearn: 0.5462602\ttotal: 22.2s\tremaining: 8s\n",
      "735:\tlearn: 0.5461736\ttotal: 22.2s\tremaining: 7.97s\n",
      "736:\tlearn: 0.5460686\ttotal: 22.2s\tremaining: 7.93s\n",
      "737:\tlearn: 0.5459366\ttotal: 22.3s\tremaining: 7.9s\n",
      "738:\tlearn: 0.5457838\ttotal: 22.3s\tremaining: 7.87s\n",
      "739:\tlearn: 0.5455837\ttotal: 22.3s\tremaining: 7.84s\n",
      "740:\tlearn: 0.5454942\ttotal: 22.3s\tremaining: 7.81s\n",
      "741:\tlearn: 0.5453553\ttotal: 22.4s\tremaining: 7.78s\n",
      "742:\tlearn: 0.5451619\ttotal: 22.4s\tremaining: 7.75s\n",
      "743:\tlearn: 0.5449937\ttotal: 22.4s\tremaining: 7.72s\n",
      "744:\tlearn: 0.5448681\ttotal: 22.5s\tremaining: 7.69s\n",
      "745:\tlearn: 0.5447729\ttotal: 22.5s\tremaining: 7.66s\n",
      "746:\tlearn: 0.5445936\ttotal: 22.5s\tremaining: 7.63s\n",
      "747:\tlearn: 0.5444971\ttotal: 22.5s\tremaining: 7.59s\n",
      "748:\tlearn: 0.5443792\ttotal: 22.6s\tremaining: 7.57s\n",
      "749:\tlearn: 0.5442431\ttotal: 22.6s\tremaining: 7.53s\n",
      "750:\tlearn: 0.5440920\ttotal: 22.6s\tremaining: 7.5s\n",
      "751:\tlearn: 0.5439339\ttotal: 22.7s\tremaining: 7.47s\n",
      "752:\tlearn: 0.5438514\ttotal: 22.7s\tremaining: 7.45s\n",
      "753:\tlearn: 0.5435964\ttotal: 22.7s\tremaining: 7.42s\n",
      "754:\tlearn: 0.5433313\ttotal: 22.8s\tremaining: 7.39s\n",
      "755:\tlearn: 0.5431981\ttotal: 22.8s\tremaining: 7.36s\n",
      "756:\tlearn: 0.5431254\ttotal: 22.8s\tremaining: 7.33s\n",
      "757:\tlearn: 0.5430230\ttotal: 22.9s\tremaining: 7.3s\n",
      "758:\tlearn: 0.5429464\ttotal: 22.9s\tremaining: 7.27s\n",
      "759:\tlearn: 0.5428170\ttotal: 22.9s\tremaining: 7.24s\n",
      "760:\tlearn: 0.5426822\ttotal: 23s\tremaining: 7.21s\n",
      "761:\tlearn: 0.5426186\ttotal: 23s\tremaining: 7.19s\n",
      "762:\tlearn: 0.5424141\ttotal: 23s\tremaining: 7.16s\n",
      "763:\tlearn: 0.5422709\ttotal: 23.1s\tremaining: 7.13s\n",
      "764:\tlearn: 0.5421160\ttotal: 23.1s\tremaining: 7.1s\n",
      "765:\tlearn: 0.5420251\ttotal: 23.1s\tremaining: 7.07s\n",
      "766:\tlearn: 0.5419097\ttotal: 23.2s\tremaining: 7.04s\n",
      "767:\tlearn: 0.5417445\ttotal: 23.2s\tremaining: 7.01s\n",
      "768:\tlearn: 0.5416470\ttotal: 23.2s\tremaining: 6.98s\n",
      "769:\tlearn: 0.5415678\ttotal: 23.3s\tremaining: 6.95s\n",
      "770:\tlearn: 0.5414480\ttotal: 23.3s\tremaining: 6.92s\n",
      "771:\tlearn: 0.5413696\ttotal: 23.3s\tremaining: 6.89s\n",
      "772:\tlearn: 0.5412555\ttotal: 23.3s\tremaining: 6.85s\n",
      "773:\tlearn: 0.5410313\ttotal: 23.4s\tremaining: 6.83s\n",
      "774:\tlearn: 0.5409264\ttotal: 23.4s\tremaining: 6.79s\n",
      "775:\tlearn: 0.5408902\ttotal: 23.4s\tremaining: 6.76s\n",
      "776:\tlearn: 0.5407762\ttotal: 23.5s\tremaining: 6.74s\n",
      "777:\tlearn: 0.5406934\ttotal: 23.5s\tremaining: 6.71s\n",
      "778:\tlearn: 0.5405885\ttotal: 23.5s\tremaining: 6.68s\n",
      "779:\tlearn: 0.5404051\ttotal: 23.6s\tremaining: 6.65s\n",
      "780:\tlearn: 0.5402957\ttotal: 23.6s\tremaining: 6.62s\n",
      "781:\tlearn: 0.5401646\ttotal: 23.7s\tremaining: 6.59s\n",
      "782:\tlearn: 0.5400861\ttotal: 23.7s\tremaining: 6.57s\n",
      "783:\tlearn: 0.5400142\ttotal: 23.7s\tremaining: 6.54s\n",
      "784:\tlearn: 0.5398010\ttotal: 23.8s\tremaining: 6.51s\n",
      "785:\tlearn: 0.5396953\ttotal: 23.8s\tremaining: 6.48s\n",
      "786:\tlearn: 0.5395822\ttotal: 23.8s\tremaining: 6.45s\n",
      "787:\tlearn: 0.5394545\ttotal: 23.9s\tremaining: 6.42s\n",
      "788:\tlearn: 0.5393711\ttotal: 23.9s\tremaining: 6.39s\n",
      "789:\tlearn: 0.5391393\ttotal: 23.9s\tremaining: 6.36s\n",
      "790:\tlearn: 0.5389284\ttotal: 23.9s\tremaining: 6.33s\n",
      "791:\tlearn: 0.5388182\ttotal: 24s\tremaining: 6.29s\n",
      "792:\tlearn: 0.5386802\ttotal: 24s\tremaining: 6.26s\n",
      "793:\tlearn: 0.5385818\ttotal: 24s\tremaining: 6.23s\n",
      "794:\tlearn: 0.5385221\ttotal: 24s\tremaining: 6.2s\n",
      "795:\tlearn: 0.5382730\ttotal: 24.1s\tremaining: 6.17s\n",
      "796:\tlearn: 0.5381979\ttotal: 24.1s\tremaining: 6.14s\n",
      "797:\tlearn: 0.5380972\ttotal: 24.1s\tremaining: 6.11s\n",
      "798:\tlearn: 0.5379650\ttotal: 24.2s\tremaining: 6.08s\n",
      "799:\tlearn: 0.5378343\ttotal: 24.2s\tremaining: 6.05s\n",
      "800:\tlearn: 0.5377430\ttotal: 24.2s\tremaining: 6.02s\n",
      "801:\tlearn: 0.5376082\ttotal: 24.3s\tremaining: 5.99s\n",
      "802:\tlearn: 0.5374922\ttotal: 24.3s\tremaining: 5.96s\n",
      "803:\tlearn: 0.5373755\ttotal: 24.3s\tremaining: 5.93s\n"
     ]
    },
    {
     "name": "stdout",
     "output_type": "stream",
     "text": [
      "804:\tlearn: 0.5372551\ttotal: 24.4s\tremaining: 5.9s\n",
      "805:\tlearn: 0.5370361\ttotal: 24.4s\tremaining: 5.87s\n",
      "806:\tlearn: 0.5367920\ttotal: 24.4s\tremaining: 5.84s\n",
      "807:\tlearn: 0.5366721\ttotal: 24.5s\tremaining: 5.81s\n",
      "808:\tlearn: 0.5364727\ttotal: 24.5s\tremaining: 5.78s\n",
      "809:\tlearn: 0.5363404\ttotal: 24.5s\tremaining: 5.75s\n",
      "810:\tlearn: 0.5362710\ttotal: 24.6s\tremaining: 5.72s\n",
      "811:\tlearn: 0.5361905\ttotal: 24.6s\tremaining: 5.69s\n",
      "812:\tlearn: 0.5360982\ttotal: 24.6s\tremaining: 5.66s\n",
      "813:\tlearn: 0.5359797\ttotal: 24.6s\tremaining: 5.63s\n",
      "814:\tlearn: 0.5359197\ttotal: 24.7s\tremaining: 5.6s\n",
      "815:\tlearn: 0.5358407\ttotal: 24.7s\tremaining: 5.57s\n",
      "816:\tlearn: 0.5357423\ttotal: 24.7s\tremaining: 5.54s\n",
      "817:\tlearn: 0.5356406\ttotal: 24.8s\tremaining: 5.51s\n",
      "818:\tlearn: 0.5355412\ttotal: 24.8s\tremaining: 5.48s\n",
      "819:\tlearn: 0.5354535\ttotal: 24.8s\tremaining: 5.45s\n",
      "820:\tlearn: 0.5353214\ttotal: 24.9s\tremaining: 5.42s\n",
      "821:\tlearn: 0.5352136\ttotal: 24.9s\tremaining: 5.39s\n",
      "822:\tlearn: 0.5350394\ttotal: 24.9s\tremaining: 5.36s\n",
      "823:\tlearn: 0.5349297\ttotal: 24.9s\tremaining: 5.33s\n",
      "824:\tlearn: 0.5347748\ttotal: 25s\tremaining: 5.29s\n",
      "825:\tlearn: 0.5346848\ttotal: 25s\tremaining: 5.26s\n",
      "826:\tlearn: 0.5345063\ttotal: 25s\tremaining: 5.23s\n",
      "827:\tlearn: 0.5344093\ttotal: 25.1s\tremaining: 5.2s\n",
      "828:\tlearn: 0.5343230\ttotal: 25.1s\tremaining: 5.17s\n",
      "829:\tlearn: 0.5342189\ttotal: 25.1s\tremaining: 5.14s\n",
      "830:\tlearn: 0.5341395\ttotal: 25.1s\tremaining: 5.11s\n",
      "831:\tlearn: 0.5340368\ttotal: 25.2s\tremaining: 5.08s\n",
      "832:\tlearn: 0.5339552\ttotal: 25.2s\tremaining: 5.05s\n",
      "833:\tlearn: 0.5337513\ttotal: 25.2s\tremaining: 5.02s\n",
      "834:\tlearn: 0.5335878\ttotal: 25.3s\tremaining: 4.99s\n",
      "835:\tlearn: 0.5335043\ttotal: 25.3s\tremaining: 4.96s\n",
      "836:\tlearn: 0.5334373\ttotal: 25.3s\tremaining: 4.93s\n",
      "837:\tlearn: 0.5333256\ttotal: 25.4s\tremaining: 4.9s\n",
      "838:\tlearn: 0.5332399\ttotal: 25.4s\tremaining: 4.87s\n",
      "839:\tlearn: 0.5331371\ttotal: 25.4s\tremaining: 4.84s\n",
      "840:\tlearn: 0.5330676\ttotal: 25.4s\tremaining: 4.81s\n",
      "841:\tlearn: 0.5329968\ttotal: 25.5s\tremaining: 4.78s\n",
      "842:\tlearn: 0.5327765\ttotal: 25.5s\tremaining: 4.75s\n",
      "843:\tlearn: 0.5326377\ttotal: 25.5s\tremaining: 4.72s\n",
      "844:\tlearn: 0.5324688\ttotal: 25.6s\tremaining: 4.69s\n",
      "845:\tlearn: 0.5323257\ttotal: 25.6s\tremaining: 4.66s\n",
      "846:\tlearn: 0.5321030\ttotal: 25.6s\tremaining: 4.63s\n",
      "847:\tlearn: 0.5319629\ttotal: 25.7s\tremaining: 4.6s\n",
      "848:\tlearn: 0.5318371\ttotal: 25.7s\tremaining: 4.57s\n",
      "849:\tlearn: 0.5316865\ttotal: 25.8s\tremaining: 4.54s\n",
      "850:\tlearn: 0.5316224\ttotal: 25.8s\tremaining: 4.51s\n",
      "851:\tlearn: 0.5315646\ttotal: 25.8s\tremaining: 4.48s\n",
      "852:\tlearn: 0.5314537\ttotal: 25.9s\tremaining: 4.45s\n",
      "853:\tlearn: 0.5313149\ttotal: 25.9s\tremaining: 4.42s\n",
      "854:\tlearn: 0.5311756\ttotal: 25.9s\tremaining: 4.39s\n",
      "855:\tlearn: 0.5311262\ttotal: 25.9s\tremaining: 4.37s\n",
      "856:\tlearn: 0.5310685\ttotal: 26s\tremaining: 4.33s\n",
      "857:\tlearn: 0.5309664\ttotal: 26s\tremaining: 4.3s\n",
      "858:\tlearn: 0.5308766\ttotal: 26s\tremaining: 4.27s\n",
      "859:\tlearn: 0.5307747\ttotal: 26.1s\tremaining: 4.25s\n",
      "860:\tlearn: 0.5307196\ttotal: 26.1s\tremaining: 4.21s\n",
      "861:\tlearn: 0.5306327\ttotal: 26.2s\tremaining: 4.19s\n",
      "862:\tlearn: 0.5305789\ttotal: 26.2s\tremaining: 4.16s\n",
      "863:\tlearn: 0.5304996\ttotal: 26.2s\tremaining: 4.13s\n",
      "864:\tlearn: 0.5304311\ttotal: 26.2s\tremaining: 4.1s\n",
      "865:\tlearn: 0.5302539\ttotal: 26.3s\tremaining: 4.07s\n",
      "866:\tlearn: 0.5301363\ttotal: 26.3s\tremaining: 4.04s\n",
      "867:\tlearn: 0.5300718\ttotal: 26.3s\tremaining: 4.01s\n",
      "868:\tlearn: 0.5299528\ttotal: 26.4s\tremaining: 3.98s\n",
      "869:\tlearn: 0.5298850\ttotal: 26.4s\tremaining: 3.94s\n",
      "870:\tlearn: 0.5297343\ttotal: 26.4s\tremaining: 3.92s\n",
      "871:\tlearn: 0.5296281\ttotal: 26.5s\tremaining: 3.88s\n",
      "872:\tlearn: 0.5295966\ttotal: 26.5s\tremaining: 3.85s\n",
      "873:\tlearn: 0.5294566\ttotal: 26.5s\tremaining: 3.82s\n",
      "874:\tlearn: 0.5293430\ttotal: 26.6s\tremaining: 3.79s\n",
      "875:\tlearn: 0.5292679\ttotal: 26.6s\tremaining: 3.76s\n",
      "876:\tlearn: 0.5290894\ttotal: 26.6s\tremaining: 3.73s\n",
      "877:\tlearn: 0.5290452\ttotal: 26.6s\tremaining: 3.7s\n",
      "878:\tlearn: 0.5289795\ttotal: 26.7s\tremaining: 3.67s\n",
      "879:\tlearn: 0.5288466\ttotal: 26.7s\tremaining: 3.64s\n",
      "880:\tlearn: 0.5287265\ttotal: 26.7s\tremaining: 3.61s\n",
      "881:\tlearn: 0.5286261\ttotal: 26.7s\tremaining: 3.58s\n",
      "882:\tlearn: 0.5283430\ttotal: 26.8s\tremaining: 3.54s\n",
      "883:\tlearn: 0.5282236\ttotal: 26.8s\tremaining: 3.51s\n",
      "884:\tlearn: 0.5281469\ttotal: 26.8s\tremaining: 3.48s\n",
      "885:\tlearn: 0.5280581\ttotal: 26.8s\tremaining: 3.45s\n",
      "886:\tlearn: 0.5279924\ttotal: 26.9s\tremaining: 3.42s\n",
      "887:\tlearn: 0.5278597\ttotal: 26.9s\tremaining: 3.39s\n",
      "888:\tlearn: 0.5277666\ttotal: 26.9s\tremaining: 3.36s\n",
      "889:\tlearn: 0.5276568\ttotal: 26.9s\tremaining: 3.33s\n",
      "890:\tlearn: 0.5275143\ttotal: 27s\tremaining: 3.3s\n",
      "891:\tlearn: 0.5274422\ttotal: 27s\tremaining: 3.27s\n",
      "892:\tlearn: 0.5273258\ttotal: 27s\tremaining: 3.24s\n",
      "893:\tlearn: 0.5272257\ttotal: 27s\tremaining: 3.21s\n",
      "894:\tlearn: 0.5271785\ttotal: 27.1s\tremaining: 3.17s\n",
      "895:\tlearn: 0.5270872\ttotal: 27.1s\tremaining: 3.14s\n",
      "896:\tlearn: 0.5269772\ttotal: 27.1s\tremaining: 3.11s\n",
      "897:\tlearn: 0.5269006\ttotal: 27.1s\tremaining: 3.08s\n",
      "898:\tlearn: 0.5268168\ttotal: 27.2s\tremaining: 3.05s\n",
      "899:\tlearn: 0.5266707\ttotal: 27.2s\tremaining: 3.02s\n",
      "900:\tlearn: 0.5264766\ttotal: 27.2s\tremaining: 2.99s\n",
      "901:\tlearn: 0.5264123\ttotal: 27.3s\tremaining: 2.96s\n",
      "902:\tlearn: 0.5262399\ttotal: 27.3s\tremaining: 2.93s\n",
      "903:\tlearn: 0.5261045\ttotal: 27.3s\tremaining: 2.9s\n",
      "904:\tlearn: 0.5260270\ttotal: 27.4s\tremaining: 2.87s\n",
      "905:\tlearn: 0.5258863\ttotal: 27.4s\tremaining: 2.84s\n",
      "906:\tlearn: 0.5257684\ttotal: 27.4s\tremaining: 2.81s\n",
      "907:\tlearn: 0.5256603\ttotal: 27.5s\tremaining: 2.78s\n",
      "908:\tlearn: 0.5255142\ttotal: 27.5s\tremaining: 2.75s\n",
      "909:\tlearn: 0.5252978\ttotal: 27.5s\tremaining: 2.72s\n",
      "910:\tlearn: 0.5252117\ttotal: 27.6s\tremaining: 2.69s\n",
      "911:\tlearn: 0.5251532\ttotal: 27.6s\tremaining: 2.67s\n",
      "912:\tlearn: 0.5250047\ttotal: 27.7s\tremaining: 2.63s\n",
      "913:\tlearn: 0.5249046\ttotal: 27.7s\tremaining: 2.6s\n",
      "914:\tlearn: 0.5248441\ttotal: 27.7s\tremaining: 2.57s\n",
      "915:\tlearn: 0.5247650\ttotal: 27.7s\tremaining: 2.54s\n",
      "916:\tlearn: 0.5246669\ttotal: 27.8s\tremaining: 2.51s\n",
      "917:\tlearn: 0.5245758\ttotal: 27.8s\tremaining: 2.48s\n",
      "918:\tlearn: 0.5245092\ttotal: 27.8s\tremaining: 2.45s\n",
      "919:\tlearn: 0.5243395\ttotal: 27.9s\tremaining: 2.42s\n",
      "920:\tlearn: 0.5242178\ttotal: 27.9s\tremaining: 2.39s\n",
      "921:\tlearn: 0.5241039\ttotal: 27.9s\tremaining: 2.36s\n",
      "922:\tlearn: 0.5238893\ttotal: 28s\tremaining: 2.33s\n",
      "923:\tlearn: 0.5237360\ttotal: 28s\tremaining: 2.3s\n",
      "924:\tlearn: 0.5236409\ttotal: 28s\tremaining: 2.27s\n",
      "925:\tlearn: 0.5235373\ttotal: 28.1s\tremaining: 2.24s\n",
      "926:\tlearn: 0.5234337\ttotal: 28.1s\tremaining: 2.21s\n",
      "927:\tlearn: 0.5233356\ttotal: 28.1s\tremaining: 2.18s\n",
      "928:\tlearn: 0.5231629\ttotal: 28.2s\tremaining: 2.15s\n",
      "929:\tlearn: 0.5230665\ttotal: 28.2s\tremaining: 2.12s\n",
      "930:\tlearn: 0.5229587\ttotal: 28.2s\tremaining: 2.09s\n",
      "931:\tlearn: 0.5228817\ttotal: 28.3s\tremaining: 2.06s\n",
      "932:\tlearn: 0.5228376\ttotal: 28.3s\tremaining: 2.03s\n",
      "933:\tlearn: 0.5227477\ttotal: 28.3s\tremaining: 2s\n",
      "934:\tlearn: 0.5225578\ttotal: 28.3s\tremaining: 1.97s\n",
      "935:\tlearn: 0.5224701\ttotal: 28.4s\tremaining: 1.94s\n",
      "936:\tlearn: 0.5222831\ttotal: 28.4s\tremaining: 1.91s\n",
      "937:\tlearn: 0.5221520\ttotal: 28.4s\tremaining: 1.88s\n",
      "938:\tlearn: 0.5220763\ttotal: 28.5s\tremaining: 1.85s\n",
      "939:\tlearn: 0.5219432\ttotal: 28.5s\tremaining: 1.82s\n",
      "940:\tlearn: 0.5219025\ttotal: 28.6s\tremaining: 1.79s\n",
      "941:\tlearn: 0.5218697\ttotal: 28.6s\tremaining: 1.76s\n",
      "942:\tlearn: 0.5217659\ttotal: 28.6s\tremaining: 1.73s\n",
      "943:\tlearn: 0.5216411\ttotal: 28.7s\tremaining: 1.7s\n",
      "944:\tlearn: 0.5215277\ttotal: 28.7s\tremaining: 1.67s\n",
      "945:\tlearn: 0.5214176\ttotal: 28.7s\tremaining: 1.64s\n",
      "946:\tlearn: 0.5213243\ttotal: 28.8s\tremaining: 1.61s\n",
      "947:\tlearn: 0.5211493\ttotal: 28.8s\tremaining: 1.58s\n",
      "948:\tlearn: 0.5210653\ttotal: 28.8s\tremaining: 1.55s\n",
      "949:\tlearn: 0.5209412\ttotal: 28.9s\tremaining: 1.52s\n",
      "950:\tlearn: 0.5208911\ttotal: 28.9s\tremaining: 1.49s\n",
      "951:\tlearn: 0.5207992\ttotal: 28.9s\tremaining: 1.46s\n",
      "952:\tlearn: 0.5206005\ttotal: 28.9s\tremaining: 1.43s\n",
      "953:\tlearn: 0.5204393\ttotal: 29s\tremaining: 1.4s\n",
      "954:\tlearn: 0.5202989\ttotal: 29s\tremaining: 1.37s\n",
      "955:\tlearn: 0.5201883\ttotal: 29s\tremaining: 1.33s\n",
      "956:\tlearn: 0.5200827\ttotal: 29.1s\tremaining: 1.3s\n",
      "957:\tlearn: 0.5199348\ttotal: 29.1s\tremaining: 1.27s\n",
      "958:\tlearn: 0.5197727\ttotal: 29.1s\tremaining: 1.25s\n",
      "959:\tlearn: 0.5196977\ttotal: 29.2s\tremaining: 1.21s\n",
      "960:\tlearn: 0.5196252\ttotal: 29.2s\tremaining: 1.18s\n",
      "961:\tlearn: 0.5195845\ttotal: 29.2s\tremaining: 1.15s\n",
      "962:\tlearn: 0.5194833\ttotal: 29.2s\tremaining: 1.12s\n",
      "963:\tlearn: 0.5193891\ttotal: 29.3s\tremaining: 1.09s\n",
      "964:\tlearn: 0.5192685\ttotal: 29.3s\tremaining: 1.06s\n"
     ]
    },
    {
     "name": "stdout",
     "output_type": "stream",
     "text": [
      "965:\tlearn: 0.5192280\ttotal: 29.3s\tremaining: 1.03s\n",
      "966:\tlearn: 0.5190349\ttotal: 29.4s\tremaining: 1s\n",
      "967:\tlearn: 0.5189247\ttotal: 29.4s\tremaining: 972ms\n",
      "968:\tlearn: 0.5188306\ttotal: 29.4s\tremaining: 941ms\n",
      "969:\tlearn: 0.5187108\ttotal: 29.5s\tremaining: 911ms\n",
      "970:\tlearn: 0.5186493\ttotal: 29.5s\tremaining: 880ms\n",
      "971:\tlearn: 0.5185632\ttotal: 29.5s\tremaining: 850ms\n",
      "972:\tlearn: 0.5184375\ttotal: 29.5s\tremaining: 820ms\n",
      "973:\tlearn: 0.5183739\ttotal: 29.6s\tremaining: 789ms\n",
      "974:\tlearn: 0.5182502\ttotal: 29.6s\tremaining: 759ms\n",
      "975:\tlearn: 0.5181469\ttotal: 29.6s\tremaining: 728ms\n",
      "976:\tlearn: 0.5180249\ttotal: 29.6s\tremaining: 698ms\n",
      "977:\tlearn: 0.5179356\ttotal: 29.7s\tremaining: 668ms\n",
      "978:\tlearn: 0.5178701\ttotal: 29.7s\tremaining: 637ms\n",
      "979:\tlearn: 0.5177894\ttotal: 29.7s\tremaining: 606ms\n",
      "980:\tlearn: 0.5177057\ttotal: 29.7s\tremaining: 576ms\n",
      "981:\tlearn: 0.5176189\ttotal: 29.8s\tremaining: 546ms\n",
      "982:\tlearn: 0.5175862\ttotal: 29.8s\tremaining: 515ms\n",
      "983:\tlearn: 0.5174662\ttotal: 29.8s\tremaining: 485ms\n",
      "984:\tlearn: 0.5173279\ttotal: 29.9s\tremaining: 455ms\n",
      "985:\tlearn: 0.5171531\ttotal: 29.9s\tremaining: 424ms\n",
      "986:\tlearn: 0.5170929\ttotal: 29.9s\tremaining: 394ms\n",
      "987:\tlearn: 0.5169688\ttotal: 29.9s\tremaining: 363ms\n",
      "988:\tlearn: 0.5168578\ttotal: 29.9s\tremaining: 333ms\n",
      "989:\tlearn: 0.5167560\ttotal: 30s\tremaining: 303ms\n",
      "990:\tlearn: 0.5166301\ttotal: 30s\tremaining: 272ms\n",
      "991:\tlearn: 0.5165419\ttotal: 30s\tremaining: 242ms\n",
      "992:\tlearn: 0.5164188\ttotal: 30.1s\tremaining: 212ms\n",
      "993:\tlearn: 0.5163661\ttotal: 30.1s\tremaining: 182ms\n",
      "994:\tlearn: 0.5162916\ttotal: 30.1s\tremaining: 151ms\n",
      "995:\tlearn: 0.5161567\ttotal: 30.2s\tremaining: 121ms\n",
      "996:\tlearn: 0.5160675\ttotal: 30.2s\tremaining: 90.9ms\n",
      "997:\tlearn: 0.5158871\ttotal: 30.2s\tremaining: 60.6ms\n",
      "998:\tlearn: 0.5157811\ttotal: 30.3s\tremaining: 30.3ms\n",
      "999:\tlearn: 0.5156647\ttotal: 30.3s\tremaining: 0us\n",
      "              precision    recall  f1-score   support\n",
      "\n",
      "           0       0.76      0.74      0.75      5375\n",
      "           1       0.67      0.69      0.68      3227\n",
      "           2       0.79      0.79      0.79      9954\n",
      "\n",
      "    accuracy                           0.76     18556\n",
      "   macro avg       0.74      0.74      0.74     18556\n",
      "weighted avg       0.76      0.76      0.76     18556\n",
      "\n"
     ]
    },
    {
     "data": {
      "text/plain": [
       "<sklearn.metrics._plot.confusion_matrix.ConfusionMatrixDisplay at 0x1d9ad986f10>"
      ]
     },
     "execution_count": 86,
     "metadata": {},
     "output_type": "execute_result"
    },
    {
     "data": {
      "image/png": "[encoded data removed]",
      "text/plain": [
       "<Figure size 640x480 with 2 Axes>"
      ]
     },
     "metadata": {},
     "output_type": "display_data"
    }
   ],
   "source": [
    "model = CatBoostClassifier(random_state=42)\n",
    "model.fit(x_train,y_train)\n",
    "y_pred = model.predict(x_test)\n",
    "print(classification_report(y_test,y_pred))\n",
    "confusion_matrixDisply = ConfusionMatrixDisplay(confusion_matrix(y_test,y_pred),display_labels=['Poor','Good','Standard'])\n",
    "confusion_matrixDisply.plot()"
   ]
  },
  {
   "cell_type": "code",
   "execution_count": null,
   "id": "43bbc047",
   "metadata": {},
   "outputs": [],
   "source": []
  }
 ],
 "metadata": {
  "kernelspec": {
   "display_name": "Python 3 (ipykernel)",
   "language": "python",
   "name": "python3"
  },
  "language_info": {
   "codemirror_mode": {
    "name": "ipython",
    "version": 3
   },
   "file_extension": ".py",
   "mimetype": "text/x-python",
   "name": "python",
   "nbconvert_exporter": "python",
   "pygments_lexer": "ipython3",
   "version": "3.11.5"
  }
 },
 "nbformat": 4,
 "nbformat_minor": 5
}
